{
 "cells": [
  {
   "cell_type": "code",
   "execution_count": 3,
   "id": "7c86bd4f",
   "metadata": {},
   "outputs": [],
   "source": [
    "import pandas as pd\n",
    "import numpy as np\n",
    "import seaborn as sns\n",
    "import matplotlib.pyplot as plt\n",
    "from sklearn.feature_extraction.text import TfidfVectorizer\n",
    "from sklearn.model_selection import train_test_split\n",
    "from sklearn.linear_model import PassiveAggressiveClassifier\n",
    "from sklearn.metrics import accuracy_score\n",
    "from sklearn.metrics import classification_report \n",
    "import re\n",
    "import string \n",
    "import openai"
   ]
  },
  {
   "cell_type": "code",
   "execution_count": 7,
   "id": "95783bd5",
   "metadata": {},
   "outputs": [],
   "source": [
    "# Specifying path to CSV files\n",
    "\n",
    "file_fake = \"C:\\\\Users\\\\timot\\\\OneDrive\\\\Desktop\\\\Fake (1).csv\"\n",
    "file_true = \"C:\\\\Users\\\\timot\\\\OneDrive\\\\Desktop\\\\True.csv\""
   ]
  },
  {
   "cell_type": "code",
   "execution_count": 9,
   "id": "c1d690eb",
   "metadata": {},
   "outputs": [
    {
     "name": "stderr",
     "output_type": "stream",
     "text": [
      "C:\\Users\\timot\\AppData\\Local\\Temp\\ipykernel_10128\\2196808078.py:3: DtypeWarning: Columns (4,5,6,7,8,9,10,11,12,13,14,15,16,17,18,19,20,21,22,23,24,25,26,27,28,29,30,31,32,33,34,35,36,37,38,39,40,41,42,43,44,45,46,47,48,49,50,51,52,53,54,55,56,57,58,59,60,61,62,63,64,65,66,67,68,69,70,71,72,73,74,75,76,77,78,79,80,81,82,83,84,85,86,87,88,89,90,91,92,93,94,95,96,97,98,99,100,101,102,103,104,105,106,107,108,109,110,111,112,113,114,115,116,117,118,119,120,121,122,123,124,125,126,127,128,129,130,131,132,133,134,135,136,137,138,139,140,141,142,143,144,145,146,147,148,149,150,151,152,153,154,155,156,157,158,159,160,161,162,163,164,165,166,167,168,169,170,171) have mixed types. Specify dtype option on import or set low_memory=False.\n",
      "  df1 = pd.read_csv(file_fake)\n"
     ]
    }
   ],
   "source": [
    "# Reading the CSV files into DataFrames\n",
    "\n",
    "df1 = pd.read_csv(file_fake)\n",
    "df2 = pd.read_csv(file_true)"
   ]
  },
  {
   "cell_type": "code",
   "execution_count": 10,
   "id": "5c4c59cb",
   "metadata": {},
   "outputs": [
    {
     "name": "stdout",
     "output_type": "stream",
     "text": [
      "title           object\n",
      "text            object\n",
      "subject         object\n",
      "date            object\n",
      "Unnamed: 4      object\n",
      "                 ...  \n",
      "Unnamed: 167    object\n",
      "Unnamed: 168    object\n",
      "Unnamed: 169    object\n",
      "Unnamed: 170    object\n",
      "Unnamed: 171    object\n",
      "Length: 172, dtype: object\n"
     ]
    }
   ],
   "source": [
    "# Print the data types of each column\n",
    "print(df1.dtypes)"
   ]
  },
  {
   "cell_type": "code",
   "execution_count": 11,
   "id": "2b94846c",
   "metadata": {},
   "outputs": [
    {
     "name": "stdout",
     "output_type": "stream",
     "text": [
      "title      object\n",
      "text       object\n",
      "subject    object\n",
      "date       object\n",
      "dtype: object\n"
     ]
    }
   ],
   "source": [
    "print(df2.dtypes)"
   ]
  },
  {
   "cell_type": "code",
   "execution_count": 12,
   "id": "fea2e069",
   "metadata": {},
   "outputs": [
    {
     "name": "stdout",
     "output_type": "stream",
     "text": [
      "Column names for df1: ['title', 'text', 'subject', 'date', 'Unnamed: 4', 'Unnamed: 5', 'Unnamed: 6', 'Unnamed: 7', 'Unnamed: 8', 'Unnamed: 9', 'Unnamed: 10', 'Unnamed: 11', 'Unnamed: 12', 'Unnamed: 13', 'Unnamed: 14', 'Unnamed: 15', 'Unnamed: 16', 'Unnamed: 17', 'Unnamed: 18', 'Unnamed: 19', 'Unnamed: 20', 'Unnamed: 21', 'Unnamed: 22', 'Unnamed: 23', 'Unnamed: 24', 'Unnamed: 25', 'Unnamed: 26', 'Unnamed: 27', 'Unnamed: 28', 'Unnamed: 29', 'Unnamed: 30', 'Unnamed: 31', 'Unnamed: 32', 'Unnamed: 33', 'Unnamed: 34', 'Unnamed: 35', 'Unnamed: 36', 'Unnamed: 37', 'Unnamed: 38', 'Unnamed: 39', 'Unnamed: 40', 'Unnamed: 41', 'Unnamed: 42', 'Unnamed: 43', 'Unnamed: 44', 'Unnamed: 45', 'Unnamed: 46', 'Unnamed: 47', 'Unnamed: 48', 'Unnamed: 49', 'Unnamed: 50', 'Unnamed: 51', 'Unnamed: 52', 'Unnamed: 53', 'Unnamed: 54', 'Unnamed: 55', 'Unnamed: 56', 'Unnamed: 57', 'Unnamed: 58', 'Unnamed: 59', 'Unnamed: 60', 'Unnamed: 61', 'Unnamed: 62', 'Unnamed: 63', 'Unnamed: 64', 'Unnamed: 65', 'Unnamed: 66', 'Unnamed: 67', 'Unnamed: 68', 'Unnamed: 69', 'Unnamed: 70', 'Unnamed: 71', 'Unnamed: 72', 'Unnamed: 73', 'Unnamed: 74', 'Unnamed: 75', 'Unnamed: 76', 'Unnamed: 77', 'Unnamed: 78', 'Unnamed: 79', 'Unnamed: 80', 'Unnamed: 81', 'Unnamed: 82', 'Unnamed: 83', 'Unnamed: 84', 'Unnamed: 85', 'Unnamed: 86', 'Unnamed: 87', 'Unnamed: 88', 'Unnamed: 89', 'Unnamed: 90', 'Unnamed: 91', 'Unnamed: 92', 'Unnamed: 93', 'Unnamed: 94', 'Unnamed: 95', 'Unnamed: 96', 'Unnamed: 97', 'Unnamed: 98', 'Unnamed: 99', 'Unnamed: 100', 'Unnamed: 101', 'Unnamed: 102', 'Unnamed: 103', 'Unnamed: 104', 'Unnamed: 105', 'Unnamed: 106', 'Unnamed: 107', 'Unnamed: 108', 'Unnamed: 109', 'Unnamed: 110', 'Unnamed: 111', 'Unnamed: 112', 'Unnamed: 113', 'Unnamed: 114', 'Unnamed: 115', 'Unnamed: 116', 'Unnamed: 117', 'Unnamed: 118', 'Unnamed: 119', 'Unnamed: 120', 'Unnamed: 121', 'Unnamed: 122', 'Unnamed: 123', 'Unnamed: 124', 'Unnamed: 125', 'Unnamed: 126', 'Unnamed: 127', 'Unnamed: 128', 'Unnamed: 129', 'Unnamed: 130', 'Unnamed: 131', 'Unnamed: 132', 'Unnamed: 133', 'Unnamed: 134', 'Unnamed: 135', 'Unnamed: 136', 'Unnamed: 137', 'Unnamed: 138', 'Unnamed: 139', 'Unnamed: 140', 'Unnamed: 141', 'Unnamed: 142', 'Unnamed: 143', 'Unnamed: 144', 'Unnamed: 145', 'Unnamed: 146', 'Unnamed: 147', 'Unnamed: 148', 'Unnamed: 149', 'Unnamed: 150', 'Unnamed: 151', 'Unnamed: 152', 'Unnamed: 153', 'Unnamed: 154', 'Unnamed: 155', 'Unnamed: 156', 'Unnamed: 157', 'Unnamed: 158', 'Unnamed: 159', 'Unnamed: 160', 'Unnamed: 161', 'Unnamed: 162', 'Unnamed: 163', 'Unnamed: 164', 'Unnamed: 165', 'Unnamed: 166', 'Unnamed: 167', 'Unnamed: 168', 'Unnamed: 169', 'Unnamed: 170', 'Unnamed: 171']\n",
      "Column names for df2: ['title', 'text', 'subject', 'date']\n"
     ]
    }
   ],
   "source": [
    "columns_df1 = df1.columns.tolist()\n",
    "columns_df2 = df2.columns.tolist()\n",
    "\n",
    "# Print the list of column names for df1\n",
    "print(\"Column names for df1:\", columns_df1)\n",
    "\n",
    "# Print the list of column names for df2\n",
    "print(\"Column names for df2:\", columns_df2)"
   ]
  },
  {
   "cell_type": "code",
   "execution_count": 13,
   "id": "3a578234",
   "metadata": {},
   "outputs": [
    {
     "name": "stdout",
     "output_type": "stream",
     "text": [
      "                                                   title  \\\n",
      "0       Donald Trump Sends Out Embarrassing New Year’...   \n",
      "1       Drunk Bragging Trump Staffer Started Russian ...   \n",
      "2       Sheriff David Clarke Becomes An Internet Joke...   \n",
      "3       Trump Is So Obsessed He Even Has Obama’s Name...   \n",
      "4       Pope Francis Just Called Out Donald Trump Dur...   \n",
      "...                                                  ...   \n",
      "23497  McPain: John McCain Furious That Iran Treated ...   \n",
      "23498  JUSTICE? Yahoo Settles E-mail Privacy Class-ac...   \n",
      "23499  Sunnistan: US and Allied ‘Safe Zone’ Plan to T...   \n",
      "23500  How to Blow $700 Million: Al Jazeera America F...   \n",
      "23501  10 U.S. Navy Sailors Held by Iranian Military ...   \n",
      "\n",
      "                                                    text      subject  \\\n",
      "0      Donald Trump just couldn t wish all Americans ...         News   \n",
      "1      House Intelligence Committee Chairman Devin Nu...         News   \n",
      "2      On Friday, it was revealed that former Milwauk...         News   \n",
      "3      On Christmas day, Donald Trump announced that ...         News   \n",
      "4      Pope Francis used his annual Christmas Day mes...         News   \n",
      "...                                                  ...          ...   \n",
      "23497  21st Century Wire says As 21WIRE reported earl...  Middle-east   \n",
      "23498  21st Century Wire says It s a familiar theme. ...  Middle-east   \n",
      "23499  Patrick Henningsen  21st Century WireRemember ...  Middle-east   \n",
      "23500  21st Century Wire says Al Jazeera America will...  Middle-east   \n",
      "23501  21st Century Wire says As 21WIRE predicted in ...  Middle-east   \n",
      "\n",
      "            date  \n",
      "0      31-Dec-17  \n",
      "1      31-Dec-17  \n",
      "2      30-Dec-17  \n",
      "3      29-Dec-17  \n",
      "4      25-Dec-17  \n",
      "...          ...  \n",
      "23497  16-Jan-16  \n",
      "23498  16-Jan-16  \n",
      "23499  15-Jan-16  \n",
      "23500  14-Jan-16  \n",
      "23501  12-Jan-16  \n",
      "\n",
      "[23502 rows x 4 columns]\n"
     ]
    }
   ],
   "source": [
    "# Drop columns 4 to 171 from df1\n",
    "df1 = df1.drop(df1.columns[4:172], axis=1)\n",
    "\n",
    "# Printing the updated DataFrame\n",
    "print(df1)"
   ]
  },
  {
   "cell_type": "code",
   "execution_count": 14,
   "id": "c0cafe84",
   "metadata": {},
   "outputs": [
    {
     "name": "stdout",
     "output_type": "stream",
     "text": [
      "                                                   title  \\\n",
      "0      As U.S. budget fight looms, Republicans flip t...   \n",
      "1      U.S. military to accept transgender recruits o...   \n",
      "2      Senior U.S. Republican senator: 'Let Mr. Muell...   \n",
      "3      FBI Russia probe helped by Australian diplomat...   \n",
      "4      Trump wants Postal Service to charge 'much mor...   \n",
      "...                                                  ...   \n",
      "21412  'Fully committed' NATO backs new U.S. approach...   \n",
      "21413  LexisNexis withdrew two products from Chinese ...   \n",
      "21414  Minsk cultural hub becomes haven from authorities   \n",
      "21415  Vatican upbeat on possibility of Pope Francis ...   \n",
      "21416  Indonesia to buy $1.14 billion worth of Russia...   \n",
      "\n",
      "                                                    text       subject  \\\n",
      "0      WASHINGTON (Reuters) - The head of a conservat...  politicsNews   \n",
      "1      WASHINGTON (Reuters) - Transgender people will...  politicsNews   \n",
      "2      WASHINGTON (Reuters) - The special counsel inv...  politicsNews   \n",
      "3      WASHINGTON (Reuters) - Trump campaign adviser ...  politicsNews   \n",
      "4      SEATTLE/WASHINGTON (Reuters) - President Donal...  politicsNews   \n",
      "...                                                  ...           ...   \n",
      "21412  BRUSSELS (Reuters) - NATO allies on Tuesday we...     worldnews   \n",
      "21413  LONDON (Reuters) - LexisNexis, a provider of l...     worldnews   \n",
      "21414  MINSK (Reuters) - In the shadow of disused Sov...     worldnews   \n",
      "21415  MOSCOW (Reuters) - Vatican Secretary of State ...     worldnews   \n",
      "21416  JAKARTA (Reuters) - Indonesia will buy 11 Sukh...     worldnews   \n",
      "\n",
      "            date  \n",
      "0      31-Dec-17  \n",
      "1      29-Dec-17  \n",
      "2      31-Dec-17  \n",
      "3      30-Dec-17  \n",
      "4      29-Dec-17  \n",
      "...          ...  \n",
      "21412  22-Aug-17  \n",
      "21413  22-Aug-17  \n",
      "21414  22-Aug-17  \n",
      "21415  22-Aug-17  \n",
      "21416  22-Aug-17  \n",
      "\n",
      "[21417 rows x 4 columns]\n"
     ]
    }
   ],
   "source": [
    "print(df2)"
   ]
  },
  {
   "cell_type": "code",
   "execution_count": 21,
   "id": "bb5ae9d0",
   "metadata": {},
   "outputs": [
    {
     "name": "stdout",
     "output_type": "stream",
     "text": [
      "First few rows of df1:\n",
      "                                               title  \\\n",
      "0   Donald Trump Sends Out Embarrassing New Year’...   \n",
      "1   Drunk Bragging Trump Staffer Started Russian ...   \n",
      "2   Sheriff David Clarke Becomes An Internet Joke...   \n",
      "3   Trump Is So Obsessed He Even Has Obama’s Name...   \n",
      "4   Pope Francis Just Called Out Donald Trump Dur...   \n",
      "\n",
      "                                                text subject       date  Class  \n",
      "0  Donald Trump just couldn t wish all Americans ...    News  31-Dec-17      0  \n",
      "1  House Intelligence Committee Chairman Devin Nu...    News  31-Dec-17      0  \n",
      "2  On Friday, it was revealed that former Milwauk...    News  30-Dec-17      0  \n",
      "3  On Christmas day, Donald Trump announced that ...    News  29-Dec-17      0  \n",
      "4  Pope Francis used his annual Christmas Day mes...    News  25-Dec-17      0  \n"
     ]
    }
   ],
   "source": [
    "# Display the first few rows of df1\n",
    "print(\"First few rows of df1:\")\n",
    "print(df1.head())"
   ]
  },
  {
   "cell_type": "code",
   "execution_count": 22,
   "id": "a6e34590",
   "metadata": {},
   "outputs": [
    {
     "name": "stdout",
     "output_type": "stream",
     "text": [
      "Fake Dataset:\n",
      "                                               title  \\\n",
      "0   Donald Trump Sends Out Embarrassing New Year’...   \n",
      "1   Drunk Bragging Trump Staffer Started Russian ...   \n",
      "2   Sheriff David Clarke Becomes An Internet Joke...   \n",
      "3   Trump Is So Obsessed He Even Has Obama’s Name...   \n",
      "4   Pope Francis Just Called Out Donald Trump Dur...   \n",
      "\n",
      "                                                text subject       date  Class  \n",
      "0  Donald Trump just couldn t wish all Americans ...    News  31-Dec-17      0  \n",
      "1  House Intelligence Committee Chairman Devin Nu...    News  31-Dec-17      0  \n",
      "2  On Friday, it was revealed that former Milwauk...    News  30-Dec-17      0  \n",
      "3  On Christmas day, Donald Trump announced that ...    News  29-Dec-17      0  \n",
      "4  Pope Francis used his annual Christmas Day mes...    News  25-Dec-17      0  \n",
      "\n",
      "True Dataset:\n",
      "                                               title  \\\n",
      "0  As U.S. budget fight looms, Republicans flip t...   \n",
      "1  U.S. military to accept transgender recruits o...   \n",
      "2  Senior U.S. Republican senator: 'Let Mr. Muell...   \n",
      "3  FBI Russia probe helped by Australian diplomat...   \n",
      "4  Trump wants Postal Service to charge 'much mor...   \n",
      "\n",
      "                                                text       subject       date  \\\n",
      "0  WASHINGTON (Reuters) - The head of a conservat...  politicsNews  31-Dec-17   \n",
      "1  WASHINGTON (Reuters) - Transgender people will...  politicsNews  29-Dec-17   \n",
      "2  WASHINGTON (Reuters) - The special counsel inv...  politicsNews  31-Dec-17   \n",
      "3  WASHINGTON (Reuters) - Trump campaign adviser ...  politicsNews  30-Dec-17   \n",
      "4  SEATTLE/WASHINGTON (Reuters) - President Donal...  politicsNews  29-Dec-17   \n",
      "\n",
      "   Class  \n",
      "0      1  \n",
      "1      1  \n",
      "2      1  \n",
      "3      1  \n",
      "4      1  \n"
     ]
    }
   ],
   "source": [
    "# Add a new column \"Class\" to each DataFrame and set the value\n",
    "df1['Class'] = 0\n",
    "df2['Class'] = 1\n",
    "\n",
    "# Print the first few rows of each DataFrame to verify the changes\n",
    "print(\"Fake Dataset:\")\n",
    "print(df1.head())\n",
    "\n",
    "print(\"\\nTrue Dataset:\")\n",
    "print(df2.head())"
   ]
  },
  {
   "cell_type": "code",
   "execution_count": 23,
   "id": "78d232d2",
   "metadata": {},
   "outputs": [
    {
     "data": {
      "text/plain": [
       "((23502, 5), (21417, 5))"
      ]
     },
     "execution_count": 23,
     "metadata": {},
     "output_type": "execute_result"
    }
   ],
   "source": [
    "df1.shape, df2.shape"
   ]
  },
  {
   "cell_type": "code",
   "execution_count": 28,
   "id": "8857c702",
   "metadata": {},
   "outputs": [],
   "source": [
    "# Creating a new DataFrame with the last 10 rows of df1 for testing\n",
    "df1_manual_testing = df1.tail(10).copy()\n",
    "\n",
    "# Drop the last 10 rows from df1\n",
    "for i in range(len(df1) - 1, len(df1) - 11, -1):\n",
    "    df1.drop([i], axis=0, inplace=True)"
   ]
  },
  {
   "cell_type": "code",
   "execution_count": 29,
   "id": "6c6f7391",
   "metadata": {},
   "outputs": [],
   "source": [
    "# Creating a new DataFrame with the last 10 rows of df1 for testing\n",
    "df2_manual_testing = df2.tail(10).copy()\n",
    "\n",
    "# Drop the last 10 rows from df1\n",
    "for i in range(len(df2) - 1, len(df2) - 11, -1):\n",
    "    df2.drop([i], axis=0, inplace=True)"
   ]
  },
  {
   "cell_type": "code",
   "execution_count": 30,
   "id": "e42d8c58",
   "metadata": {},
   "outputs": [],
   "source": [
    "df1_manual_testing['class'] = 0\n",
    "df2_manual_testing['class'] = 1"
   ]
  },
  {
   "cell_type": "code",
   "execution_count": 50,
   "id": "0643545a",
   "metadata": {},
   "outputs": [
    {
     "name": "stdout",
     "output_type": "stream",
     "text": [
      "                                               title  \\\n",
      "0           oros-backed Center for American Progress   \n",
      "1                                     orporate media   \n",
      "2                                            al race   \n",
      "3  shares for Las Vegas casinos took a significan...   \n",
      "4   outlets who happened to veer from the party l...   \n",
      "5    rime of which he was accused.In October of 2017   \n",
      "6  rtion into developing regions of the world.Nat...   \n",
      "7  e more time. In the film s final surreal sequence   \n",
      "8                              ersed by circumstance   \n",
      "9  x trafficking   including at least two such ex...   \n",
      "\n",
      "                                                text  \\\n",
      "0        and is heavily funded by Democracy Alliance   \n",
      "1   it s much easier to scapegoat an existential ...   \n",
      "2   it s certainly an old lesson by now. Dependin...   \n",
      "3   which owns the Mandalay Bay hotel near where ...   \n",
      "4    like the fraudulent story published in The Post   \n",
      "5   another controversial nugget in the JFK files...   \n",
      "6   while criticizing their conservative counterp...   \n",
      "7   we see Mickey and Mallory driving in an RV as...   \n",
      "8   chance and human agency. We have only to refl...   \n",
      "9                Democratic Congressman Barney Frank   \n",
      "\n",
      "                                             subject  \\\n",
      "0   of which Soros is a major financier.Mercy Cor...   \n",
      "1                               the defense industry   \n",
      "2   Karl Marx is either a villain or a hero of so...   \n",
      "3   fell 5.6 percent Monday. Wynn Resortsslipped ...   \n",
      "4   claimed that hundreds of alternative media we...   \n",
      "5                           and so is Mr. Katzenbach   \n",
      "6                                         high taxes   \n",
      "7                            a future nuclear family   \n",
      "8   state systems with outsized pretensions to po...   \n",
      "9   decided not to seek re-election. While much o...   \n",
      "\n",
      "                                                date  Class  \n",
      "0   Mercy Corps places all blame for Palestinian ...      0  \n",
      "1   and the new  security  industry   collectivel...      0  \n",
      "2   but he left us some interesting quotes. Marx ...      0  \n",
      "3     during another high-profile Las Vegas shooting      0  \n",
      "4   holding them up as  proof  of some crisis in ...      0  \n",
      "5   is having something issued so we can convince...      0  \n",
      "6                             military spending cuts      0  \n",
      "7               one without traditional moral values      0  \n",
      "8   reflecting the ossification of its ruling elites      0  \n",
      "9   there was virtually no mention of his involve...      0  \n"
     ]
    }
   ],
   "source": [
    "# Merging df1 and df2 \n",
    "merged_df = pd.concat([df1, df2], ignore_index=True)\n",
    "\n",
    "# Sort by date\n",
    "merged_df.sort_values('date', inplace=True)\n",
    "\n",
    "# Drop all duplicates, keeping the last occurrence\n",
    "merged_df.drop_duplicates(keep='last', inplace=True)\n",
    "\n",
    "# Reset index\n",
    "merged_df.reset_index(drop=True, inplace=True)\n",
    "\n",
    "# Printing first 10 rows\n",
    "print(merged_df.head(10))"
   ]
  },
  {
   "cell_type": "code",
   "execution_count": 51,
   "id": "c4c116aa",
   "metadata": {},
   "outputs": [
    {
     "name": "stdout",
     "output_type": "stream",
     "text": [
      "0        0\n",
      "1        0\n",
      "2        0\n",
      "3        0\n",
      "4        0\n",
      "        ..\n",
      "44646    0\n",
      "44647    0\n",
      "44648    0\n",
      "44649    0\n",
      "44650    0\n",
      "Name: Class, Length: 44651, dtype: int64\n"
     ]
    }
   ],
   "source": [
    "# Verifying  what is in \"Class\" column after merging\n",
    "class_column = merged_df['Class']\n",
    "\n",
    "# Printing the 'Class' column\n",
    "print(class_column)"
   ]
  },
  {
   "cell_type": "code",
   "execution_count": 55,
   "id": "62b15869",
   "metadata": {},
   "outputs": [
    {
     "name": "stdout",
     "output_type": "stream",
     "text": [
      "[0 1]\n"
     ]
    }
   ],
   "source": [
    "# Printing the unique values in the 'Class' column\n",
    "print(class_column.unique())"
   ]
  },
  {
   "cell_type": "code",
   "execution_count": 56,
   "id": "9e09173e",
   "metadata": {},
   "outputs": [],
   "source": [
    "from nltk.corpus import stopwords\n",
    "from nltk.tokenize import word_tokenize\n",
    "from nltk.stem import WordNetLemmatizer"
   ]
  },
  {
   "cell_type": "code",
   "execution_count": 57,
   "id": "0ca38a30",
   "metadata": {},
   "outputs": [],
   "source": [
    "def clean_text(text):\n",
    "    # Convert text to lowercase\n",
    "    text = text.lower()\n",
    "\n",
    "    # Remove URLs\n",
    "    text = re.sub(r'https?://\\S+|www\\.\\S+', '', text)\n",
    "\n",
    "    # Remove HTML tags\n",
    "    text = re.sub(r'<.*?>', '', text)\n",
    "\n",
    "    # Remove punctuation\n",
    "    text = re.sub(r'[^\\w\\s]', '', text)\n",
    "\n",
    "    # Remove numbers\n",
    "    text = re.sub(r'\\d+', '', text)\n",
    "\n",
    "    # Tokenize the text\n",
    "    words = word_tokenize(text)\n",
    "\n",
    "    # Remove stopwords\n",
    "    stop_words = set(stopwords.words('english'))\n",
    "    words = [word for word in words if word not in stop_words]\n",
    "\n",
    "    # Lemmatization\n",
    "    lemmatizer = WordNetLemmatizer()\n",
    "    words = [lemmatizer.lemmatize(word) for word in words]\n",
    "\n",
    "    # Join the words back into a single string\n",
    "    cleaned_text = ' '.join(words)\n",
    "    \n",
    "    return cleaned_text"
   ]
  },
  {
   "cell_type": "code",
   "execution_count": 58,
   "id": "d6822e18",
   "metadata": {},
   "outputs": [
    {
     "name": "stdout",
     "output_type": "stream",
     "text": [
      "example sentence number like special character well url\n"
     ]
    }
   ],
   "source": [
    "# Example \n",
    "dirty_text = \"This is an example sentence with some numbers like 123, and special characters !@#$, as well as URLs https://www.example.com\"\n",
    "cleaned_text = clean_text(dirty_text)\n",
    "print(cleaned_text)"
   ]
  },
  {
   "cell_type": "code",
   "execution_count": null,
   "id": "6cd41ea1",
   "metadata": {},
   "outputs": [],
   "source": []
  }
 ],
 "metadata": {
  "kernelspec": {
   "display_name": "Python 3 (ipykernel)",
   "language": "python",
   "name": "python3"
  },
  "language_info": {
   "codemirror_mode": {
    "name": "ipython",
    "version": 3
   },
   "file_extension": ".py",
   "mimetype": "text/x-python",
   "name": "python",
   "nbconvert_exporter": "python",
   "pygments_lexer": "ipython3",
   "version": "3.10.13"
  }
 },
 "nbformat": 4,
 "nbformat_minor": 5
}
