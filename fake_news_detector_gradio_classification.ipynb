{
 "cells": [
  {
   "cell_type": "code",
   "execution_count": 3,
   "metadata": {},
   "outputs": [],
   "source": [
    "import pandas as pd\n",
    "import gradio as gr\n",
    "import pickle\n",
    "from sklearn.feature_extraction.text import TfidfVectorizer\n",
    "from sklearn.linear_model import PassiveAggressiveClassifier\n",
    "from nltk.corpus import stopwords\n",
    "from nltk.tokenize import word_tokenize\n",
    "from nltk.stem import WordNetLemmatizer\n",
    "import re\n",
    "from vaderSentiment.vaderSentiment import SentimentIntensityAnalyzer\n",
    "import whisper\n"
   ]
  },
  {
   "cell_type": "code",
   "execution_count": null,
   "metadata": {},
   "outputs": [],
   "source": [
    "# Set the column width to view the text message data.\n",
    "pd.set_option('max_colwidth', 200)"
   ]
  },
  {
   "cell_type": "code",
   "execution_count": null,
   "metadata": {},
   "outputs": [],
   "source": [
    "# Restore models using pickle\n",
    "\n",
    "# Restore the trained PassiveAggressiveClassifer model\n",
    "pac_model = pickle.load(open('Resources/pa_classfier.pkl', 'rb'))\n",
    "\n",
    "# Restore the TD-IDF vectorizer\n",
    "tfid_vectorizer = pickle.load(open('Resources/tfid_vectorizer.pkl', 'rb'))\n",
    "\n",
    "print(\"pac_model and tfid_vectorizer restored\")"
   ]
  },
  {
   "cell_type": "code",
   "execution_count": null,
   "metadata": {},
   "outputs": [],
   "source": [
    "# Define function to clean articles by convering all text to lower case, removing unnecessary punctuation,\n",
    "# removing numbers, stopwords, tokenizing, and Lemmatizing the data. \n",
    "def clean_text(text):\n",
    "\n",
    "    # Convert text to lowercase\n",
    "    text = text.lower()\n",
    "\n",
    "    # Remove URLs\n",
    "    text = re.sub(r'https?://\\S+|www\\.\\S+', '', text)\n",
    "\n",
    "    # Remove HTML tags\n",
    "    text = re.sub(r'<.*?>', '', text)\n",
    "\n",
    "    # Remove punctuation\n",
    "    text = re.sub(r'[^\\w\\s]', '', text)\n",
    "\n",
    "    # Remove numbers\n",
    "    text = re.sub(r'\\d+', '', text)\n",
    "\n",
    "    # Tokenize the text\n",
    "    words = word_tokenize(text)\n",
    "\n",
    "    # Remove stopwords\n",
    "    stop_words = set(stopwords.words('english'))\n",
    "    words = [word for word in words if word not in stop_words]\n",
    "    \n",
    "    # Initialize the WordNet lemmatizer\n",
    "    lemmatizer = WordNetLemmatizer()\n",
    "    \n",
    "    # Lemmatize the words\n",
    "    words = [lemmatizer.lemmatize(word) for word in words]\n",
    "\n",
    "    # Join the words back into a single string\n",
    "    cleaned_text = ' '.join(words)\n",
    "    \n",
    "    return cleaned_text\n"
   ]
  },
  {
   "cell_type": "code",
   "execution_count": null,
   "metadata": {},
   "outputs": [],
   "source": [
    "# Test clean_text function to confirm that it works as expected \n",
    "#test_text = \"This is an example sentence with some numbers like 123, and special characters !@#$, as well as URLs https://www.example.com\"\n",
    "#cleaned_text = clean_text(test_text)\n",
    "#print(cleaned_text)"
   ]
  },
  {
   "cell_type": "code",
   "execution_count": null,
   "metadata": {},
   "outputs": [],
   "source": [
    "# Define function to predict article whether a text string is real or fake using TfidfVectorizer and\n",
    "# PassiveAggressiveClassifier \n",
    "def article_prediction(text):\n",
    "\n",
    "    # Clean text string \n",
    "    text_clean = clean_text(text)\n",
    "    \n",
    "    # Convert text string to list for the Vectorizer \n",
    "    text_clean = [text_clean]\n",
    "        \n",
    "    # Vectorize text string \n",
    "    text_tfid = tfid_vectorizer.transform(text_clean)\n",
    "    \n",
    "    # Predict Real or Fake \n",
    "    text_prediction = pac_model.predict(text_tfid)[0]\n",
    "    \n",
    "    if text_prediction == 1:\n",
    "        return 'Real'\n",
    "    else:\n",
    "        return 'Fake'\n"
   ]
  },
  {
   "cell_type": "code",
   "execution_count": null,
   "metadata": {},
   "outputs": [],
   "source": [
    "# Test article_prediction function with Real article to confirm that it works as expected \n",
    "#pred_test_text = \"DUBAI (Reuters) - The United Arab Emirates on Sunday denied a report that \\\n",
    "#Yemen s Houthi group had fired a missile toward a nuclear plant in the UAE, state news agency \\\n",
    "#WAM reported on its Twitter account. It quoted the UAE s emergency and crisis management department \\\n",
    "#as saying the UAE possessed a missile defense system that could deal with any such threats and \\\n",
    "#adding the al-Barakah nuclear plant was secure against all eventualities.\"\n",
    "\n",
    "#pred_test = article_prediction(pred_test_text)\n",
    "#print(pred_test)"
   ]
  },
  {
   "cell_type": "code",
   "execution_count": null,
   "metadata": {},
   "outputs": [],
   "source": [
    "# Create function that measures the sentiment of a sentence using SentimentIntensityAnalyzer\n",
    "def get_sentiment_rating(sentence):\n",
    "    \n",
    "    # Create a SentimentIntensityAnalyzer object\n",
    "    vader_sentiment = SentimentIntensityAnalyzer()\n",
    "\n",
    "    # The polarity_scores method of SentimentIntensityAnalyzer returns a sentiment dictionary\n",
    "    # that contains positive, negative, neutral, and compound scores.\n",
    "    vader_sentiment_dict = vader_sentiment.polarity_scores(sentence)\n",
    "     \n",
    "    #print(f'The overall sentiment dictionary is: {vader_sentiment_dict}')\n",
    "    #print(f'sentence sentiment is rated {vader_sentiment_dict[\"neg\"]*100}% Negative')\n",
    "    #print(f'sentence sentiment is rated {vader_sentiment_dict[\"neu\"]*100}% Neutral')\n",
    "    #print(f'sentence sentiment is rated {vader_sentiment_dict[\"pos\"]*100}% Positive')\n",
    "\n",
    "    # Determine if sentiment is positive, negative or neutral\n",
    "    if vader_sentiment_dict['compound'] >= 0.05 :\n",
    "        sentiment_rating = 'Positive'\n",
    "    elif vader_sentiment_dict['compound'] <= - 0.05 :\n",
    "        sentiment_rating = 'Negative'\n",
    "    else :\n",
    "        sentiment_rating = 'Neutral'\n",
    "    \n",
    "    #print(f'Sentence Overall is rated {sentiment_rating}')\n",
    "    return sentiment_rating\n"
   ]
  },
  {
   "cell_type": "code",
   "execution_count": null,
   "metadata": {},
   "outputs": [],
   "source": [
    "# Test get_sentiment_rating function\n",
    "#test_sentence = \"Google is a great place to search for answers when you don't have any!\"\n",
    "#test_result = get_sentiment_rating(test_sentence)\n",
    "#test_result"
   ]
  },
  {
   "cell_type": "code",
   "execution_count": null,
   "metadata": {},
   "outputs": [],
   "source": [
    "# Create a function that transcribes audio text using Whisper \n",
    "\n",
    "def transcribe_text(audio_rec):\n",
    "    # Create Whisper model\n",
    "    whisper_model = whisper.load_model('base')\n",
    "    \n",
    "    # Transcribe audio recording wav file to text using Whisper\n",
    "    audio_rec_path = f'Resources/{audio_rec}'\n",
    "    speech_text = whisper_model.transcribe(audio_rec_path)\n",
    "    return speech_text['text']\n"
   ]
  },
  {
   "cell_type": "code",
   "execution_count": null,
   "metadata": {},
   "outputs": [],
   "source": [
    "# Test transcribe_text function\n",
    "#test_text_wisp = transcribe_text('fake_article_audio.wav')\n",
    "#test_text_wisp"
   ]
  },
  {
   "cell_type": "code",
   "execution_count": null,
   "metadata": {},
   "outputs": [],
   "source": [
    "# Create a function that determines the sentiment rating and predicts whether a text string is real or fake. \n",
    "\n",
    "def article_sentiment_prediction(sent_text, audio_file, article_text):\n",
    "    \n",
    "    # Analyze Sentiment for input text    \n",
    "    if sent_text:\n",
    "        # Get sentiment rating\n",
    "        text_sentiment = get_sentiment_rating(sent_text)\n",
    "        \n",
    "        # Create a variable that will hold the prediction of a new text\n",
    "        text_prediction = \"\"\n",
    "        return text_sentiment, text_prediction, sent_text\n",
    "    \n",
    "    # Analyze Sentiment and Predict Real or Fake for audio file input\n",
    "    if audio_file:\n",
    "        # Transcribe audio file\n",
    "        audio_text = transcribe_text(audio_file)\n",
    "        \n",
    "        # Get sentiment rating\n",
    "        text_sentiment = get_sentiment_rating(audio_text)\n",
    "        \n",
    "        # Create a variable that will hold the prediction of a new text\n",
    "        text_prediction = article_prediction(audio_text)\n",
    "        return text_sentiment, text_prediction, audio_text\n",
    "    \n",
    "    # Analyze Sentiment and Predict Real or Fake for article input\n",
    "    if article_text:\n",
    "        # Get sentiment rating\n",
    "        text_sentiment = get_sentiment_rating(article_text)\n",
    "        \n",
    "        # Create a variable that will hold the prediction of a new text\n",
    "        text_prediction = article_prediction(article_text)\n",
    "        return text_sentiment, text_prediction, article_text\n"
   ]
  },
  {
   "cell_type": "code",
   "execution_count": null,
   "metadata": {},
   "outputs": [],
   "source": [
    "# Test #1 article_sentiment_prediction function - Sentiment Rating Only\n",
    "#test_sentence = \"Google is a great place to search for answers when you don't have any!\"\n",
    "#empty_string = \"\"\n",
    "#ret_sent, ret_rating, ret_article = article_sentiment_prediction(test_sentence, empty_string, empty_string)\n",
    "#print(ret_sent)\n",
    "#print(ret_rating)\n",
    "#print(ret_article)"
   ]
  },
  {
   "cell_type": "code",
   "execution_count": null,
   "metadata": {},
   "outputs": [],
   "source": [
    "# Test #2 article_sentiment_prediction function - audio file\n",
    "#empty_string = \"\"\n",
    "#audio_test = \"fake_article_audio.wav\"\n",
    "#ret_sent, ret_rating, ret_article = article_sentiment_prediction(empty_string, audio_test, empty_string)\n",
    "#print(ret_sent)\n",
    "#print(ret_rating)\n",
    "#print(ret_article)"
   ]
  },
  {
   "cell_type": "code",
   "execution_count": null,
   "metadata": {},
   "outputs": [],
   "source": [
    "# Test #3 article_sentiment_prediction function - news article\n",
    "#empty_string = \"\"\n",
    "#test_article = \"DUBAI (Reuters) - The United Arab Emirates on Sunday denied a report that \\\n",
    "#Yemen s Houthi group had fired a missile toward a nuclear plant in the UAE, state news agency \\\n",
    "#WAM reported on its Twitter account. It quoted the UAE s emergency and crisis management department \\\n",
    "#as saying the UAE possessed a missile defense system that could deal with any such threats and \\\n",
    "#adding the al-Barakah nuclear plant was secure against all eventualities.\"\n",
    "#ret_sent, ret_rating, ret_article = article_sentiment_prediction(empty_string, empty_string, test_article)\n",
    "#print(ret_sent)\n",
    "#print(ret_rating)\n",
    "#print(ret_article)"
   ]
  },
  {
   "cell_type": "code",
   "execution_count": null,
   "metadata": {},
   "outputs": [],
   "source": [
    "# Create Gradio interface that captures text input or audio files for Sentiment and Real-Fake Article Analysis \n",
    "app = gr.Interface(\n",
    "    fn=article_sentiment_prediction,\n",
    "    title=\"Fake News Detector and Sentiment Analyzer\",\n",
    "    inputs = [\n",
    "        gr.Textbox(label=\"Enter Text for Sentiment Rating Only.\"),\n",
    "        gr.Textbox(label=\"Enter Audio filename for Real-Fake Analysis and Sentiment Rating.\"), \n",
    "        gr.Textbox(label=\"Enter Text for Real-Fake Analysis and Sentiment Rating.\")],\n",
    "    outputs = [\n",
    "        gr.Textbox(label=\"Sentiment Rating.\", show_copy_button=True),\n",
    "        gr.Textbox(label=\"Real or Fake Analysis Prediction.\", show_copy_button=True),\n",
    "        gr.Textbox(lines=10, label=\"Analyzed Text.\", show_copy_button=True)])\n",
    "    \n",
    "# Launch the app.\n",
    "app.launch(share=True)"
   ]
  },
  {
   "cell_type": "code",
   "execution_count": null,
   "metadata": {},
   "outputs": [],
   "source": [
    "#Close gradio application when done testing\n",
    "app.close()"
   ]
  },
  {
   "cell_type": "code",
   "execution_count": null,
   "metadata": {},
   "outputs": [],
   "source": []
  }
 ],
 "metadata": {
  "kernelspec": {
   "display_name": "Python 3 (ipykernel)",
   "language": "python",
   "name": "python3"
  },
  "language_info": {
   "codemirror_mode": {
    "name": "ipython",
    "version": 3
   },
   "file_extension": ".py",
   "mimetype": "text/x-python",
   "name": "python",
   "nbconvert_exporter": "python",
   "pygments_lexer": "ipython3",
   "version": "3.10.13"
  }
 },
 "nbformat": 4,
 "nbformat_minor": 2
}
