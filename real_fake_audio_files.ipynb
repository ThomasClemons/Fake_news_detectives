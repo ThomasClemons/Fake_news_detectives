{
 "cells": [
  {
   "cell_type": "code",
   "execution_count": 1,
   "id": "2d843549",
   "metadata": {},
   "outputs": [],
   "source": [
    "import whisper "
   ]
  },
  {
   "cell_type": "code",
   "execution_count": 2,
   "id": "391e2e6b",
   "metadata": {},
   "outputs": [],
   "source": [
    "#audio_files = ['fake_article_audio.wav', 'real_article_audio.wav']"
   ]
  },
  {
   "cell_type": "code",
   "execution_count": 9,
   "id": "413808e9",
   "metadata": {},
   "outputs": [
    {
     "name": "stdout",
     "output_type": "stream",
     "text": [
      "{'text': \" You know all those fears, conservatives dismissed that Trump is going to get us into another world war? While those concerns are very real based on what he just said at a press conference in Seoul, South Korea, it's time to act with urgency and with great determination. Trump said that the press conference. North Korea is a worldwide threat that requires worldwide action. We call on every responsible nation, including China and Russia, to demand that the North Korean regime ends its nuclear weapons and its missile programs. The Donald said the United States stands prepared to defend itself and its allies using the full range of our unmatched military capabilities, if need be. Trump said, desperately trying to wag the dog in an effort to distract from the mounting criminal indictments of his associates. Is it any wonder that seemingly more South Koreans show up to protest Trump than Americans intended as inauguration? Trump is getting desperate. And it seems that he has decided a war is the way to go. If he wants to escape from the situation, he has put himself in unscathed.\", 'segments': [{'id': 0, 'seek': 0, 'start': 0.0, 'end': 6.48, 'text': ' You know all those fears, conservatives dismissed that Trump is going to get us into another', 'tokens': [50364, 509, 458, 439, 729, 15649, 11, 39607, 29970, 300, 3899, 307, 516, 281, 483, 505, 666, 1071, 50688], 'temperature': 0.0, 'avg_logprob': -0.20586481759714526, 'compression_ratio': 1.6120689655172413, 'no_speech_prob': 0.45473530888557434}, {'id': 1, 'seek': 0, 'start': 6.48, 'end': 8.16, 'text': ' world war?', 'tokens': [50688, 1002, 1516, 30, 50772], 'temperature': 0.0, 'avg_logprob': -0.20586481759714526, 'compression_ratio': 1.6120689655172413, 'no_speech_prob': 0.45473530888557434}, {'id': 2, 'seek': 0, 'start': 8.16, 'end': 12.96, 'text': ' While those concerns are very real based on what he just said at a press conference in', 'tokens': [50772, 3987, 729, 7389, 366, 588, 957, 2361, 322, 437, 415, 445, 848, 412, 257, 1886, 7586, 294, 51012], 'temperature': 0.0, 'avg_logprob': -0.20586481759714526, 'compression_ratio': 1.6120689655172413, 'no_speech_prob': 0.45473530888557434}, {'id': 3, 'seek': 0, 'start': 12.96, 'end': 18.84, 'text': \" Seoul, South Korea, it's time to act with urgency and with great determination.\", 'tokens': [51012, 17100, 11, 4242, 6307, 11, 309, 311, 565, 281, 605, 365, 29734, 293, 365, 869, 18432, 13, 51306], 'temperature': 0.0, 'avg_logprob': -0.20586481759714526, 'compression_ratio': 1.6120689655172413, 'no_speech_prob': 0.45473530888557434}, {'id': 4, 'seek': 0, 'start': 18.84, 'end': 21.96, 'text': ' Trump said that the press conference.', 'tokens': [51306, 3899, 848, 300, 264, 1886, 7586, 13, 51462], 'temperature': 0.0, 'avg_logprob': -0.20586481759714526, 'compression_ratio': 1.6120689655172413, 'no_speech_prob': 0.45473530888557434}, {'id': 5, 'seek': 0, 'start': 21.96, 'end': 27.0, 'text': ' North Korea is a worldwide threat that requires worldwide action.', 'tokens': [51462, 4067, 6307, 307, 257, 13485, 4734, 300, 7029, 13485, 3069, 13, 51714], 'temperature': 0.0, 'avg_logprob': -0.20586481759714526, 'compression_ratio': 1.6120689655172413, 'no_speech_prob': 0.45473530888557434}, {'id': 6, 'seek': 2700, 'start': 27.0, 'end': 32.52, 'text': ' We call on every responsible nation, including China and Russia, to demand that the North', 'tokens': [50364, 492, 818, 322, 633, 6250, 4790, 11, 3009, 3533, 293, 6797, 11, 281, 4733, 300, 264, 4067, 50640], 'temperature': 0.0, 'avg_logprob': -0.13071819793346318, 'compression_ratio': 1.5669291338582678, 'no_speech_prob': 0.06063026562333107}, {'id': 7, 'seek': 2700, 'start': 32.52, 'end': 38.08, 'text': ' Korean regime ends its nuclear weapons and its missile programs.', 'tokens': [50640, 6933, 13120, 5314, 1080, 8179, 7278, 293, 1080, 19321, 4268, 13, 50918], 'temperature': 0.0, 'avg_logprob': -0.13071819793346318, 'compression_ratio': 1.5669291338582678, 'no_speech_prob': 0.06063026562333107}, {'id': 8, 'seek': 2700, 'start': 38.08, 'end': 45.16, 'text': ' The Donald said the United States stands prepared to defend itself and its allies using the', 'tokens': [50918, 440, 8632, 848, 264, 2824, 3040, 7382, 4927, 281, 8602, 2564, 293, 1080, 14719, 1228, 264, 51272], 'temperature': 0.0, 'avg_logprob': -0.13071819793346318, 'compression_ratio': 1.5669291338582678, 'no_speech_prob': 0.06063026562333107}, {'id': 9, 'seek': 2700, 'start': 45.16, 'end': 50.28, 'text': ' full range of our unmatched military capabilities, if need be.', 'tokens': [51272, 1577, 3613, 295, 527, 19334, 24102, 4632, 10862, 11, 498, 643, 312, 13, 51528], 'temperature': 0.0, 'avg_logprob': -0.13071819793346318, 'compression_ratio': 1.5669291338582678, 'no_speech_prob': 0.06063026562333107}, {'id': 10, 'seek': 2700, 'start': 50.28, 'end': 55.480000000000004, 'text': ' Trump said, desperately trying to wag the dog in an effort to distract from the mounting', 'tokens': [51528, 3899, 848, 11, 23726, 1382, 281, 36854, 264, 3000, 294, 364, 4630, 281, 9945, 490, 264, 22986, 51788], 'temperature': 0.0, 'avg_logprob': -0.13071819793346318, 'compression_ratio': 1.5669291338582678, 'no_speech_prob': 0.06063026562333107}, {'id': 11, 'seek': 5548, 'start': 55.48, 'end': 58.48, 'text': ' criminal indictments of his associates.', 'tokens': [50364, 8628, 49981, 1117, 295, 702, 36914, 13, 50514], 'temperature': 0.0, 'avg_logprob': -0.21917505264282228, 'compression_ratio': 1.5490196078431373, 'no_speech_prob': 0.07847397029399872}, {'id': 12, 'seek': 5548, 'start': 58.48, 'end': 64.0, 'text': ' Is it any wonder that seemingly more South Koreans show up to protest Trump than Americans', 'tokens': [50514, 1119, 309, 604, 2441, 300, 18709, 544, 4242, 32130, 855, 493, 281, 11281, 3899, 813, 6280, 50790], 'temperature': 0.0, 'avg_logprob': -0.21917505264282228, 'compression_ratio': 1.5490196078431373, 'no_speech_prob': 0.07847397029399872}, {'id': 13, 'seek': 5548, 'start': 64.0, 'end': 66.24, 'text': ' intended as inauguration?', 'tokens': [50790, 10226, 382, 23541, 8167, 30, 50902], 'temperature': 0.0, 'avg_logprob': -0.21917505264282228, 'compression_ratio': 1.5490196078431373, 'no_speech_prob': 0.07847397029399872}, {'id': 14, 'seek': 5548, 'start': 66.24, 'end': 68.08, 'text': ' Trump is getting desperate.', 'tokens': [50902, 3899, 307, 1242, 17601, 13, 50994], 'temperature': 0.0, 'avg_logprob': -0.21917505264282228, 'compression_ratio': 1.5490196078431373, 'no_speech_prob': 0.07847397029399872}, {'id': 15, 'seek': 5548, 'start': 68.08, 'end': 71.92, 'text': ' And it seems that he has decided a war is the way to go.', 'tokens': [50994, 400, 309, 2544, 300, 415, 575, 3047, 257, 1516, 307, 264, 636, 281, 352, 13, 51186], 'temperature': 0.0, 'avg_logprob': -0.21917505264282228, 'compression_ratio': 1.5490196078431373, 'no_speech_prob': 0.07847397029399872}, {'id': 16, 'seek': 5548, 'start': 71.92, 'end': 77.6, 'text': ' If he wants to escape from the situation, he has put himself in unscathed.', 'tokens': [51186, 759, 415, 2738, 281, 7615, 490, 264, 2590, 11, 415, 575, 829, 3647, 294, 2693, 66, 998, 292, 13, 51470], 'temperature': 0.0, 'avg_logprob': -0.21917505264282228, 'compression_ratio': 1.5490196078431373, 'no_speech_prob': 0.07847397029399872}], 'language': 'en'}\n"
     ]
    }
   ],
   "source": [
    "model = whisper.load_model('base')\n",
    "result = model.transcribe('Resources/fake_article_audio.wav')\n",
    "print(result)"
   ]
  },
  {
   "cell_type": "code",
   "execution_count": 10,
   "id": "a33dce13",
   "metadata": {},
   "outputs": [
    {
     "name": "stdout",
     "output_type": "stream",
     "text": [
      "{'text': \" Steve Bannon, a former top White House strategist and a former Chief Campaign 8 to Donald Trump, has been asked to testify before the U.S. House of Representatives Intelligence panel next month. Bloomberg News reported, Corey Lewandowski, Trump's former campaign manager, was also asked to testify in early January. Bloomberg reported on Friday, citing an official familiar with the committee schedule. News for the committee did not immediately respond to inquiries for comment. The panel is probing alleged Russian meddling into the 2016 U.S. election.\", 'segments': [{'id': 0, 'seek': 0, 'start': 0.0, 'end': 8.0, 'text': ' Steve Bannon, a former top White House strategist and a former Chief Campaign 8 to Donald Trump,', 'tokens': [50364, 7466, 363, 16138, 11, 257, 5819, 1192, 5552, 4928, 5464, 468, 293, 257, 5819, 10068, 38256, 1649, 281, 8632, 3899, 11, 50764], 'temperature': 0.0, 'avg_logprob': -0.24056770490563434, 'compression_ratio': 1.5703125, 'no_speech_prob': 0.28992408514022827}, {'id': 1, 'seek': 0, 'start': 8.0, 'end': 13.24, 'text': ' has been asked to testify before the U.S. House of Representatives Intelligence panel next', 'tokens': [50764, 575, 668, 2351, 281, 31381, 949, 264, 624, 13, 50, 13, 4928, 295, 37543, 27274, 4831, 958, 51026], 'temperature': 0.0, 'avg_logprob': -0.24056770490563434, 'compression_ratio': 1.5703125, 'no_speech_prob': 0.28992408514022827}, {'id': 2, 'seek': 0, 'start': 13.24, 'end': 14.24, 'text': ' month.', 'tokens': [51026, 1618, 13, 51076], 'temperature': 0.0, 'avg_logprob': -0.24056770490563434, 'compression_ratio': 1.5703125, 'no_speech_prob': 0.28992408514022827}, {'id': 3, 'seek': 0, 'start': 14.24, 'end': 21.0, 'text': \" Bloomberg News reported, Corey Lewandowski, Trump's former campaign manager, was also asked\", 'tokens': [51076, 40363, 7987, 7055, 11, 39136, 14542, 474, 21866, 11, 3899, 311, 5819, 5129, 6598, 11, 390, 611, 2351, 51414], 'temperature': 0.0, 'avg_logprob': -0.24056770490563434, 'compression_ratio': 1.5703125, 'no_speech_prob': 0.28992408514022827}, {'id': 4, 'seek': 0, 'start': 21.0, 'end': 23.56, 'text': ' to testify in early January.', 'tokens': [51414, 281, 31381, 294, 2440, 7061, 13, 51542], 'temperature': 0.0, 'avg_logprob': -0.24056770490563434, 'compression_ratio': 1.5703125, 'no_speech_prob': 0.28992408514022827}, {'id': 5, 'seek': 0, 'start': 23.56, 'end': 29.88, 'text': ' Bloomberg reported on Friday, citing an official familiar with the committee schedule.', 'tokens': [51542, 40363, 7055, 322, 6984, 11, 48749, 364, 4783, 4963, 365, 264, 7482, 7567, 13, 51858], 'temperature': 0.0, 'avg_logprob': -0.24056770490563434, 'compression_ratio': 1.5703125, 'no_speech_prob': 0.28992408514022827}, {'id': 6, 'seek': 2988, 'start': 29.88, 'end': 34.24, 'text': ' News for the committee did not immediately respond to inquiries for comment.', 'tokens': [50364, 7987, 337, 264, 7482, 630, 406, 4258, 4196, 281, 13570, 38619, 337, 2871, 13, 50582], 'temperature': 0.0, 'avg_logprob': -0.18406437538765572, 'compression_ratio': 1.2377049180327868, 'no_speech_prob': 0.005628366023302078}, {'id': 7, 'seek': 2988, 'start': 34.24, 'end': 39.72, 'text': ' The panel is probing alleged Russian meddling into the 2016 U.S. election.', 'tokens': [50582, 440, 4831, 307, 1239, 278, 26317, 7220, 1205, 35543, 666, 264, 6549, 624, 13, 50, 13, 6618, 13, 50856], 'temperature': 0.0, 'avg_logprob': -0.18406437538765572, 'compression_ratio': 1.2377049180327868, 'no_speech_prob': 0.005628366023302078}], 'language': 'en'}\n"
     ]
    }
   ],
   "source": [
    "result_2 = model.transcribe('Resources/real_article_audio.wav')\n",
    "print(result_2)"
   ]
  },
  {
   "cell_type": "code",
   "execution_count": null,
   "id": "3e2f6214",
   "metadata": {},
   "outputs": [],
   "source": []
  },
  {
   "cell_type": "code",
   "execution_count": null,
   "id": "5b731ea6",
   "metadata": {},
   "outputs": [],
   "source": []
  },
  {
   "cell_type": "code",
   "execution_count": null,
   "id": "2635950d",
   "metadata": {},
   "outputs": [],
   "source": []
  }
 ],
 "metadata": {
  "kernelspec": {
   "display_name": "Python 3 (ipykernel)",
   "language": "python",
   "name": "python3"
  },
  "language_info": {
   "codemirror_mode": {
    "name": "ipython",
    "version": 3
   },
   "file_extension": ".py",
   "mimetype": "text/x-python",
   "name": "python",
   "nbconvert_exporter": "python",
   "pygments_lexer": "ipython3",
   "version": "3.11.5"
  }
 },
 "nbformat": 4,
 "nbformat_minor": 5
}
