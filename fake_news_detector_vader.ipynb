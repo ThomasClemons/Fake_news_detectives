{
 "cells": [
  {
   "cell_type": "code",
   "execution_count": 1,
   "id": "7c86bd4f",
   "metadata": {},
   "outputs": [],
   "source": [
    "import pandas as pd\n",
    "from vaderSentiment.vaderSentiment import SentimentIntensityAnalyzer\n",
    "import matplotlib.pyplot as plt\n"
   ]
  },
  {
   "cell_type": "code",
   "execution_count": 2,
   "id": "71de1db7",
   "metadata": {},
   "outputs": [],
   "source": [
    "# Set max row and column display\n",
    "pd.options.display.max_rows=None\n",
    "pd.options.display.max_columns=None"
   ]
  },
  {
   "cell_type": "code",
   "execution_count": 3,
   "id": "95783bd5",
   "metadata": {},
   "outputs": [],
   "source": [
    "# Set paths for article CSV files\n",
    "file_part1 = \"Resources/df_merged_articles_clean_part1.csv\"\n",
    "file_part2 = \"Resources/df_merged_articles_clean_part2.csv\"\n",
    "file_part3 = \"Resources/df_merged_articles_clean_part3.csv\"\n",
    "file_part4 = \"Resources/df_merged_articles_clean_part4.csv\""
   ]
  },
  {
   "cell_type": "code",
   "execution_count": 4,
   "id": "c1d690eb",
   "metadata": {},
   "outputs": [
    {
     "name": "stdout",
     "output_type": "stream",
     "text": [
      "Input files have been read in\n"
     ]
    }
   ],
   "source": [
    "# Read the merged article CSV files into DataFrames\n",
    "df_merged_articles_clean_part1 = pd.read_csv(file_part1)\n",
    "df_merged_articles_clean_part2 = pd.read_csv(file_part2)\n",
    "df_merged_articles_clean_part3 = pd.read_csv(file_part3)\n",
    "df_merged_articles_clean_part4 = pd.read_csv(file_part4)\n",
    "print(\"Input files have been read in\")"
   ]
  },
  {
   "cell_type": "code",
   "execution_count": 5,
   "id": "fe366503",
   "metadata": {},
   "outputs": [],
   "source": [
    "# Concatenate article CSV files into merged dataframe\n",
    "df_merged_articles_clean = pd.concat([df_merged_articles_clean_part1, df_merged_articles_clean_part2,\n",
    "                                     df_merged_articles_clean_part3, df_merged_articles_clean_part4],\n",
    "                                     ignore_index=True)"
   ]
  },
  {
   "cell_type": "code",
   "execution_count": 6,
   "id": "da0b725a",
   "metadata": {},
   "outputs": [
    {
     "data": {
      "text/html": [
       "<div>\n",
       "<style scoped>\n",
       "    .dataframe tbody tr th:only-of-type {\n",
       "        vertical-align: middle;\n",
       "    }\n",
       "\n",
       "    .dataframe tbody tr th {\n",
       "        vertical-align: top;\n",
       "    }\n",
       "\n",
       "    .dataframe thead th {\n",
       "        text-align: right;\n",
       "    }\n",
       "</style>\n",
       "<table border=\"1\" class=\"dataframe\">\n",
       "  <thead>\n",
       "    <tr style=\"text-align: right;\">\n",
       "      <th></th>\n",
       "      <th>title</th>\n",
       "      <th>text</th>\n",
       "      <th>cleaned_text</th>\n",
       "      <th>subject</th>\n",
       "      <th>class</th>\n",
       "    </tr>\n",
       "  </thead>\n",
       "  <tbody>\n",
       "    <tr>\n",
       "      <th>0</th>\n",
       "      <td>Donald Trump Sends Out Embarrassing New Year’...</td>\n",
       "      <td>Donald Trump just couldn t wish all Americans ...</td>\n",
       "      <td>donald trump wish american happy new year leav...</td>\n",
       "      <td>News</td>\n",
       "      <td>0</td>\n",
       "    </tr>\n",
       "    <tr>\n",
       "      <th>1</th>\n",
       "      <td>Drunk Bragging Trump Staffer Started Russian ...</td>\n",
       "      <td>House Intelligence Committee Chairman Devin Nu...</td>\n",
       "      <td>house intelligence committee chairman devin nu...</td>\n",
       "      <td>News</td>\n",
       "      <td>0</td>\n",
       "    </tr>\n",
       "    <tr>\n",
       "      <th>2</th>\n",
       "      <td>Sheriff David Clarke Becomes An Internet Joke...</td>\n",
       "      <td>On Friday, it was revealed that former Milwauk...</td>\n",
       "      <td>friday revealed former milwaukee sheriff david...</td>\n",
       "      <td>News</td>\n",
       "      <td>0</td>\n",
       "    </tr>\n",
       "    <tr>\n",
       "      <th>3</th>\n",
       "      <td>Trump Is So Obsessed He Even Has Obama’s Name...</td>\n",
       "      <td>On Christmas day, Donald Trump announced that ...</td>\n",
       "      <td>christmas day donald trump announced would bac...</td>\n",
       "      <td>News</td>\n",
       "      <td>0</td>\n",
       "    </tr>\n",
       "    <tr>\n",
       "      <th>4</th>\n",
       "      <td>Pope Francis Just Called Out Donald Trump Dur...</td>\n",
       "      <td>Pope Francis used his annual Christmas Day mes...</td>\n",
       "      <td>pope francis used annual christmas day message...</td>\n",
       "      <td>News</td>\n",
       "      <td>0</td>\n",
       "    </tr>\n",
       "  </tbody>\n",
       "</table>\n",
       "</div>"
      ],
      "text/plain": [
       "                                               title  \\\n",
       "0   Donald Trump Sends Out Embarrassing New Year’...   \n",
       "1   Drunk Bragging Trump Staffer Started Russian ...   \n",
       "2   Sheriff David Clarke Becomes An Internet Joke...   \n",
       "3   Trump Is So Obsessed He Even Has Obama’s Name...   \n",
       "4   Pope Francis Just Called Out Donald Trump Dur...   \n",
       "\n",
       "                                                text  \\\n",
       "0  Donald Trump just couldn t wish all Americans ...   \n",
       "1  House Intelligence Committee Chairman Devin Nu...   \n",
       "2  On Friday, it was revealed that former Milwauk...   \n",
       "3  On Christmas day, Donald Trump announced that ...   \n",
       "4  Pope Francis used his annual Christmas Day mes...   \n",
       "\n",
       "                                        cleaned_text subject  class  \n",
       "0  donald trump wish american happy new year leav...    News      0  \n",
       "1  house intelligence committee chairman devin nu...    News      0  \n",
       "2  friday revealed former milwaukee sheriff david...    News      0  \n",
       "3  christmas day donald trump announced would bac...    News      0  \n",
       "4  pope francis used annual christmas day message...    News      0  "
      ]
     },
     "execution_count": 6,
     "metadata": {},
     "output_type": "execute_result"
    }
   ],
   "source": [
    "# Print first 5 rows of df_merged_articles_clean dataframe\n",
    "df_merged_articles_clean.head()"
   ]
  },
  {
   "cell_type": "code",
   "execution_count": 7,
   "id": "c3e49bd1",
   "metadata": {},
   "outputs": [
    {
     "data": {
      "text/plain": [
       "(44898, 5)"
      ]
     },
     "execution_count": 7,
     "metadata": {},
     "output_type": "execute_result"
    }
   ],
   "source": [
    "# Display shape of df_merged_articles_clean dataframe\n",
    "df_merged_articles_clean.shape"
   ]
  },
  {
   "cell_type": "code",
   "execution_count": 8,
   "id": "b71f139d",
   "metadata": {},
   "outputs": [
    {
     "name": "stdout",
     "output_type": "stream",
     "text": [
      "                                               title  \\\n",
      "0   Donald Trump Sends Out Embarrassing New Year’...   \n",
      "1   Drunk Bragging Trump Staffer Started Russian ...   \n",
      "2   Sheriff David Clarke Becomes An Internet Joke...   \n",
      "3   Trump Is So Obsessed He Even Has Obama’s Name...   \n",
      "4   Pope Francis Just Called Out Donald Trump Dur...   \n",
      "\n",
      "                                                text  \\\n",
      "0  Donald Trump just couldn t wish all Americans ...   \n",
      "1  House Intelligence Committee Chairman Devin Nu...   \n",
      "2  On Friday, it was revealed that former Milwauk...   \n",
      "3  On Christmas day, Donald Trump announced that ...   \n",
      "4  Pope Francis used his annual Christmas Day mes...   \n",
      "\n",
      "                                        cleaned_text subject  class  \n",
      "0  donald trump wish american happy new year leav...    News      0  \n",
      "1  house intelligence committee chairman devin nu...    News      0  \n",
      "2  friday revealed former milwaukee sheriff david...    News      0  \n",
      "3  christmas day donald trump announced would bac...    News      0  \n",
      "4  pope francis used annual christmas day message...    News      0  \n"
     ]
    }
   ],
   "source": [
    "# Rows with null cleaned_text column contain article text that are URLs or blank.\n",
    "# These rows can be deleted with a small impact on the overall row count (reduced from 44898 to 44182).\n",
    "df_merged_articles_revised = df_merged_articles_clean.dropna(subset=['cleaned_text'])\n",
    "print(df_merged_articles_revised.head())"
   ]
  },
  {
   "cell_type": "code",
   "execution_count": 9,
   "id": "9dc431c9",
   "metadata": {},
   "outputs": [
    {
     "data": {
      "text/plain": [
       "(44182, 5)"
      ]
     },
     "execution_count": 9,
     "metadata": {},
     "output_type": "execute_result"
    }
   ],
   "source": [
    "# Display shape of df_merged_articles_revised dataframe\n",
    "df_merged_articles_revised.shape"
   ]
  },
  {
   "cell_type": "code",
   "execution_count": 10,
   "id": "7a7b2062",
   "metadata": {},
   "outputs": [
    {
     "name": "stdout",
     "output_type": "stream",
     "text": [
      "<class 'pandas.core.frame.DataFrame'>\n",
      "Index: 44182 entries, 0 to 44897\n",
      "Data columns (total 5 columns):\n",
      " #   Column        Non-Null Count  Dtype \n",
      "---  ------        --------------  ----- \n",
      " 0   title         44182 non-null  object\n",
      " 1   text          44182 non-null  object\n",
      " 2   cleaned_text  44182 non-null  object\n",
      " 3   subject       44182 non-null  object\n",
      " 4   class         44182 non-null  int64 \n",
      "dtypes: int64(1), object(4)\n",
      "memory usage: 2.0+ MB\n"
     ]
    }
   ],
   "source": [
    "# Display info for of df_merged_articles_clean dataframe\n",
    "df_merged_articles_revised.info()"
   ]
  },
  {
   "cell_type": "code",
   "execution_count": 11,
   "id": "faacd2dd",
   "metadata": {},
   "outputs": [
    {
     "data": {
      "text/html": [
       "<div>\n",
       "<style scoped>\n",
       "    .dataframe tbody tr th:only-of-type {\n",
       "        vertical-align: middle;\n",
       "    }\n",
       "\n",
       "    .dataframe tbody tr th {\n",
       "        vertical-align: top;\n",
       "    }\n",
       "\n",
       "    .dataframe thead th {\n",
       "        text-align: right;\n",
       "    }\n",
       "</style>\n",
       "<table border=\"1\" class=\"dataframe\">\n",
       "  <thead>\n",
       "    <tr style=\"text-align: right;\">\n",
       "      <th></th>\n",
       "      <th>title</th>\n",
       "      <th>cleaned_text</th>\n",
       "      <th>class</th>\n",
       "    </tr>\n",
       "  </thead>\n",
       "  <tbody>\n",
       "    <tr>\n",
       "      <th>0</th>\n",
       "      <td>Donald Trump Sends Out Embarrassing New Year’...</td>\n",
       "      <td>donald trump wish american happy new year leav...</td>\n",
       "      <td>0</td>\n",
       "    </tr>\n",
       "    <tr>\n",
       "      <th>1</th>\n",
       "      <td>Drunk Bragging Trump Staffer Started Russian ...</td>\n",
       "      <td>house intelligence committee chairman devin nu...</td>\n",
       "      <td>0</td>\n",
       "    </tr>\n",
       "    <tr>\n",
       "      <th>2</th>\n",
       "      <td>Sheriff David Clarke Becomes An Internet Joke...</td>\n",
       "      <td>friday revealed former milwaukee sheriff david...</td>\n",
       "      <td>0</td>\n",
       "    </tr>\n",
       "    <tr>\n",
       "      <th>3</th>\n",
       "      <td>Trump Is So Obsessed He Even Has Obama’s Name...</td>\n",
       "      <td>christmas day donald trump announced would bac...</td>\n",
       "      <td>0</td>\n",
       "    </tr>\n",
       "    <tr>\n",
       "      <th>4</th>\n",
       "      <td>Pope Francis Just Called Out Donald Trump Dur...</td>\n",
       "      <td>pope francis used annual christmas day message...</td>\n",
       "      <td>0</td>\n",
       "    </tr>\n",
       "  </tbody>\n",
       "</table>\n",
       "</div>"
      ],
      "text/plain": [
       "                                               title  \\\n",
       "0   Donald Trump Sends Out Embarrassing New Year’...   \n",
       "1   Drunk Bragging Trump Staffer Started Russian ...   \n",
       "2   Sheriff David Clarke Becomes An Internet Joke...   \n",
       "3   Trump Is So Obsessed He Even Has Obama’s Name...   \n",
       "4   Pope Francis Just Called Out Donald Trump Dur...   \n",
       "\n",
       "                                        cleaned_text  class  \n",
       "0  donald trump wish american happy new year leav...      0  \n",
       "1  house intelligence committee chairman devin nu...      0  \n",
       "2  friday revealed former milwaukee sheriff david...      0  \n",
       "3  christmas day donald trump announced would bac...      0  \n",
       "4  pope francis used annual christmas day message...      0  "
      ]
     },
     "execution_count": 11,
     "metadata": {},
     "output_type": "execute_result"
    }
   ],
   "source": [
    "# Create smaller dataframe to separate articles into real and fake dataframes to use in WordCloud\n",
    "vader_cols = ['title', 'cleaned_text', 'class']\n",
    "\n",
    "# Create new df_articles_vader dataframe\n",
    "df_articles_vader = df_merged_articles_revised[vader_cols]\n",
    "\n",
    "# Display first 5 rows of df_articles_vader dataframe\n",
    "df_articles_vader.head()"
   ]
  },
  {
   "cell_type": "code",
   "execution_count": 12,
   "id": "1a956e97",
   "metadata": {},
   "outputs": [],
   "source": [
    "# Create function that measures the sentiment of a sentence using SentimentIntensityAnalyzer\n",
    "def get_sentiment_rating(sentence):\n",
    "    # Create a SentimentIntensityAnalyzer object\n",
    "    vader_sentiment = SentimentIntensityAnalyzer()\n",
    "\n",
    "    # The polarity_scores method of SentimentIntensityAnalyzer returns a sentiment dictionary\n",
    "    # that contains positive, negative, neutral, and compound scores.\n",
    "    vader_sentiment_dict = vader_sentiment.polarity_scores(sentence)\n",
    "     \n",
    "    #print(f'The overall sentiment dictionary is: {vader_sentiment_dict}')\n",
    "    #print(f'sentence sentiment is rated {vader_sentiment_dict[\"neg\"]*100}% Negative')\n",
    "    #print(f'sentence sentiment is rated {vader_sentiment_dict[\"neu\"]*100}% Neutral')\n",
    "    #print(f'sentence sentiment is rated {vader_sentiment_dict[\"pos\"]*100}% Positive')\n",
    "\n",
    "    # Determine if sentiment is positive, negative or neutral\n",
    "    if vader_sentiment_dict['compound'] >= 0.05 :\n",
    "        sentiment_rating = 'Positive'\n",
    "    elif vader_sentiment_dict['compound'] <= - 0.05 :\n",
    "        sentiment_rating = 'Negative'\n",
    "    else :\n",
    "        sentiment_rating = 'Neutral'\n",
    "    \n",
    "    #print(f'Sentence Overall is rated {sentiment_rating}')\n",
    "    return sentiment_rating\n"
   ]
  },
  {
   "cell_type": "code",
   "execution_count": 13,
   "id": "216c95f4",
   "metadata": {},
   "outputs": [
    {
     "data": {
      "text/plain": [
       "'Positive'"
      ]
     },
     "execution_count": 13,
     "metadata": {},
     "output_type": "execute_result"
    }
   ],
   "source": [
    "# Test get_sentiment_rating function\n",
    "test_sentence = \"Google is a great place to search for answers when you don't have any!\"\n",
    "test_result = get_sentiment_rating(test_sentence)\n",
    "test_result"
   ]
  },
  {
   "cell_type": "code",
   "execution_count": 14,
   "id": "537273e9",
   "metadata": {},
   "outputs": [
    {
     "name": "stderr",
     "output_type": "stream",
     "text": [
      "C:\\Users\\tacle\\AppData\\Local\\Temp\\ipykernel_14968\\2582203316.py:2: SettingWithCopyWarning: \n",
      "A value is trying to be set on a copy of a slice from a DataFrame.\n",
      "Try using .loc[row_indexer,col_indexer] = value instead\n",
      "\n",
      "See the caveats in the documentation: https://pandas.pydata.org/pandas-docs/stable/user_guide/indexing.html#returning-a-view-versus-a-copy\n",
      "  df_articles_vader['sentiment'] = df_articles_vader['title'].apply(get_sentiment_rating)\n"
     ]
    },
    {
     "data": {
      "text/html": [
       "<div>\n",
       "<style scoped>\n",
       "    .dataframe tbody tr th:only-of-type {\n",
       "        vertical-align: middle;\n",
       "    }\n",
       "\n",
       "    .dataframe tbody tr th {\n",
       "        vertical-align: top;\n",
       "    }\n",
       "\n",
       "    .dataframe thead th {\n",
       "        text-align: right;\n",
       "    }\n",
       "</style>\n",
       "<table border=\"1\" class=\"dataframe\">\n",
       "  <thead>\n",
       "    <tr style=\"text-align: right;\">\n",
       "      <th></th>\n",
       "      <th>title</th>\n",
       "      <th>cleaned_text</th>\n",
       "      <th>class</th>\n",
       "      <th>sentiment</th>\n",
       "    </tr>\n",
       "  </thead>\n",
       "  <tbody>\n",
       "    <tr>\n",
       "      <th>0</th>\n",
       "      <td>Donald Trump Sends Out Embarrassing New Year’...</td>\n",
       "      <td>donald trump wish american happy new year leav...</td>\n",
       "      <td>0</td>\n",
       "      <td>Negative</td>\n",
       "    </tr>\n",
       "    <tr>\n",
       "      <th>1</th>\n",
       "      <td>Drunk Bragging Trump Staffer Started Russian ...</td>\n",
       "      <td>house intelligence committee chairman devin nu...</td>\n",
       "      <td>0</td>\n",
       "      <td>Negative</td>\n",
       "    </tr>\n",
       "    <tr>\n",
       "      <th>2</th>\n",
       "      <td>Sheriff David Clarke Becomes An Internet Joke...</td>\n",
       "      <td>friday revealed former milwaukee sheriff david...</td>\n",
       "      <td>0</td>\n",
       "      <td>Negative</td>\n",
       "    </tr>\n",
       "    <tr>\n",
       "      <th>3</th>\n",
       "      <td>Trump Is So Obsessed He Even Has Obama’s Name...</td>\n",
       "      <td>christmas day donald trump announced would bac...</td>\n",
       "      <td>0</td>\n",
       "      <td>Negative</td>\n",
       "    </tr>\n",
       "    <tr>\n",
       "      <th>4</th>\n",
       "      <td>Pope Francis Just Called Out Donald Trump Dur...</td>\n",
       "      <td>pope francis used annual christmas day message...</td>\n",
       "      <td>0</td>\n",
       "      <td>Neutral</td>\n",
       "    </tr>\n",
       "  </tbody>\n",
       "</table>\n",
       "</div>"
      ],
      "text/plain": [
       "                                               title  \\\n",
       "0   Donald Trump Sends Out Embarrassing New Year’...   \n",
       "1   Drunk Bragging Trump Staffer Started Russian ...   \n",
       "2   Sheriff David Clarke Becomes An Internet Joke...   \n",
       "3   Trump Is So Obsessed He Even Has Obama’s Name...   \n",
       "4   Pope Francis Just Called Out Donald Trump Dur...   \n",
       "\n",
       "                                        cleaned_text  class sentiment  \n",
       "0  donald trump wish american happy new year leav...      0  Negative  \n",
       "1  house intelligence committee chairman devin nu...      0  Negative  \n",
       "2  friday revealed former milwaukee sheriff david...      0  Negative  \n",
       "3  christmas day donald trump announced would bac...      0  Negative  \n",
       "4  pope francis used annual christmas day message...      0   Neutral  "
      ]
     },
     "execution_count": 14,
     "metadata": {},
     "output_type": "execute_result"
    }
   ],
   "source": [
    "# Add a new Sentiment column to the df_articles_vader dataframe based on article title\n",
    "df_articles_vader['sentiment'] = df_articles_vader['title'].apply(get_sentiment_rating)\n",
    "df_articles_vader.head()"
   ]
  },
  {
   "cell_type": "code",
   "execution_count": 15,
   "id": "6c6feb34",
   "metadata": {},
   "outputs": [
    {
     "data": {
      "text/plain": [
       "sentiment\n",
       "Negative    19851\n",
       "Neutral     12848\n",
       "Positive    11483\n",
       "Name: count, dtype: int64"
      ]
     },
     "execution_count": 15,
     "metadata": {},
     "output_type": "execute_result"
    }
   ],
   "source": [
    "# Display value counts for new df_articles_vader Sentiment column \n",
    "df_articles_vader['sentiment'].value_counts()"
   ]
  },
  {
   "cell_type": "code",
   "execution_count": 16,
   "id": "65725176",
   "metadata": {},
   "outputs": [
    {
     "data": {
      "text/plain": [
       "class  sentiment\n",
       "0      Negative     11813\n",
       "1      Negative      8038\n",
       "       Neutral       7849\n",
       "0      Positive      5954\n",
       "1      Positive      5529\n",
       "0      Neutral       4999\n",
       "Name: count, dtype: int64"
      ]
     },
     "execution_count": 16,
     "metadata": {},
     "output_type": "execute_result"
    }
   ],
   "source": [
    "# Display value counts for new df_articles_vader Class and Sentiment columns \n",
    "df_articles_vader[['class','sentiment']].value_counts()"
   ]
  },
  {
   "cell_type": "code",
   "execution_count": 17,
   "id": "f2831558",
   "metadata": {},
   "outputs": [
    {
     "name": "stdout",
     "output_type": "stream",
     "text": [
      "(21416, 4)\n",
      "                                                   title  \\\n",
      "23481  As U.S. budget fight looms, Republicans flip t...   \n",
      "23482  U.S. military to accept transgender recruits o...   \n",
      "23483  Senior U.S. Republican senator: 'Let Mr. Muell...   \n",
      "23484  FBI Russia probe helped by Australian diplomat...   \n",
      "23485  Trump wants Postal Service to charge 'much mor...   \n",
      "\n",
      "                                            cleaned_text  class sentiment  \n",
      "23481  washington reuters head conservative republica...      1  Negative  \n",
      "23482  washington reuters transgender people allowed ...      1  Positive  \n",
      "23483  washington reuters special counsel investigati...      1   Neutral  \n",
      "23484  washington reuters trump campaign adviser geor...      1   Neutral  \n",
      "23485  seattlewashington reuters president donald tru...      1  Positive  \n"
     ]
    }
   ],
   "source": [
    "# Create df_real_articles_vader dataframe with real articles (class=1) to analyze using WordCloud\n",
    "df_real_articles_vader = df_articles_vader.loc[df_articles_vader['class'] == 1]\n",
    "print(df_real_articles_vader.shape)\n",
    "print(df_real_articles_vader.head())"
   ]
  },
  {
   "cell_type": "code",
   "execution_count": 18,
   "id": "66256063",
   "metadata": {},
   "outputs": [
    {
     "name": "stdout",
     "output_type": "stream",
     "text": [
      "(22766, 4)\n",
      "                                               title  \\\n",
      "0   Donald Trump Sends Out Embarrassing New Year’...   \n",
      "1   Drunk Bragging Trump Staffer Started Russian ...   \n",
      "2   Sheriff David Clarke Becomes An Internet Joke...   \n",
      "3   Trump Is So Obsessed He Even Has Obama’s Name...   \n",
      "4   Pope Francis Just Called Out Donald Trump Dur...   \n",
      "\n",
      "                                        cleaned_text  class sentiment  \n",
      "0  donald trump wish american happy new year leav...      0  Negative  \n",
      "1  house intelligence committee chairman devin nu...      0  Negative  \n",
      "2  friday revealed former milwaukee sheriff david...      0  Negative  \n",
      "3  christmas day donald trump announced would bac...      0  Negative  \n",
      "4  pope francis used annual christmas day message...      0   Neutral  \n"
     ]
    }
   ],
   "source": [
    "# Create df_fake_articles_vader dataframe with fake articles (class=0) to analyze using WordCloud\n",
    "df_fake_articles_vader = df_articles_vader.loc[df_articles_vader['class'] == 0]\n",
    "print(df_fake_articles_vader.shape)\n",
    "print(df_fake_articles_vader.head())"
   ]
  },
  {
   "cell_type": "code",
   "execution_count": 19,
   "id": "d6b33407",
   "metadata": {},
   "outputs": [
    {
     "name": "stdout",
     "output_type": "stream",
     "text": [
      "sentiment\n",
      "Negative    8038\n",
      "Neutral     7849\n",
      "Positive    5529\n",
      "dtype: int64\n"
     ]
    },
    {
     "data": {
      "text/plain": [
       "<Axes: title={'center': 'Real Article Sentiment'}>"
      ]
     },
     "execution_count": 19,
     "metadata": {},
     "output_type": "execute_result"
    },
    {
     "data": {
      "image/png": "[encoded data removed]",
      "text/plain": [
       "<Figure size 600x600 with 1 Axes>"
      ]
     },
     "metadata": {},
     "output_type": "display_data"
    }
   ],
   "source": [
    "# Get count of real articles by sentiment\n",
    "sentiment_counts_real = df_real_articles_vader.groupby(['sentiment']).size()\n",
    "print(sentiment_counts_real)\n",
    "\n",
    "# Display Pie Chart of real articles sentiment\n",
    "fig = plt.figure(figsize=(6,6), dpi=100)\n",
    "ax = plt.subplot(111)\n",
    "plt.title('Real Article Sentiment')\n",
    "sentiment_counts_real.plot.pie(ax=ax, autopct='%1.1f%%', startangle=270, fontsize=12, label=\"\")\n"
   ]
  },
  {
   "cell_type": "code",
   "execution_count": 20,
   "id": "6cc0d4ba",
   "metadata": {},
   "outputs": [
    {
     "name": "stdout",
     "output_type": "stream",
     "text": [
      "sentiment\n",
      "Negative    11813\n",
      "Neutral      4999\n",
      "Positive     5954\n",
      "dtype: int64\n"
     ]
    },
    {
     "data": {
      "text/plain": [
       "<Axes: title={'center': 'Fake Article Sentiment'}>"
      ]
     },
     "execution_count": 20,
     "metadata": {},
     "output_type": "execute_result"
    },
    {
     "data": {
      "image/png": "[encoded data removed]",
      "text/plain": [
       "<Figure size 600x600 with 1 Axes>"
      ]
     },
     "metadata": {},
     "output_type": "display_data"
    }
   ],
   "source": [
    "# Get count of fake articles by sentiment\n",
    "sentiment_counts_fake = df_fake_articles_vader.groupby(['sentiment']).size()\n",
    "print(sentiment_counts_fake)\n",
    "\n",
    "# Display Pie Chart of fake articles sentiment\n",
    "fig = plt.figure(figsize=(6,6), dpi=100)\n",
    "ax = plt.subplot(111)\n",
    "plt.title('Fake Article Sentiment')\n",
    "sentiment_counts_fake.plot.pie(ax=ax, autopct='%1.1f%%', startangle=270, fontsize=12, label=\"\")"
   ]
  },
  {
   "cell_type": "code",
   "execution_count": null,
   "id": "727286d7",
   "metadata": {},
   "outputs": [],
   "source": []
  },
  {
   "cell_type": "code",
   "execution_count": null,
   "id": "e53af645",
   "metadata": {},
   "outputs": [],
   "source": []
  }
 ],
 "metadata": {
  "kernelspec": {
   "display_name": "Python 3 (ipykernel)",
   "language": "python",
   "name": "python3"
  },
  "language_info": {
   "codemirror_mode": {
    "name": "ipython",
    "version": 3
   },
   "file_extension": ".py",
   "mimetype": "text/x-python",
   "name": "python",
   "nbconvert_exporter": "python",
   "pygments_lexer": "ipython3",
   "version": "3.10.13"
  }
 },
 "nbformat": 4,
 "nbformat_minor": 5
}
