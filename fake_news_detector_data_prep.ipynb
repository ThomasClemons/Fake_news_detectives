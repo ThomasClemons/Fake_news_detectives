{
 "cells": [
  {
   "cell_type": "code",
   "execution_count": 1,
   "id": "7c86bd4f",
   "metadata": {},
   "outputs": [],
   "source": [
    "import pandas as pd\n",
    "from nltk.corpus import stopwords\n",
    "from nltk.tokenize import word_tokenize\n",
    "from nltk.stem import WordNetLemmatizer\n",
    "import re\n",
    "#import numpy as np\n",
    "#import seaborn as sns\n",
    "#import matplotlib.pyplot as plt\n",
    "#from sklearn.feature_extraction.text import TfidfVectorizer\n",
    "#from sklearn.model_selection import train_test_split\n",
    "#from sklearn.linear_model import PassiveAggressiveClassifier\n",
    "#from sklearn.metrics import accuracy_score\n",
    "#from sklearn.metrics import classification_report \n",
    "#import string \n",
    "#import openai\n"
   ]
  },
  {
   "cell_type": "code",
   "execution_count": 2,
   "id": "71de1db7",
   "metadata": {},
   "outputs": [],
   "source": [
    "# Set max row and column display\n",
    "pd.options.display.max_rows=None\n",
    "pd.options.display.max_columns=None"
   ]
  },
  {
   "cell_type": "code",
   "execution_count": 3,
   "id": "95783bd5",
   "metadata": {},
   "outputs": [],
   "source": [
    "# Set paths to Real and Fake article CSV files\n",
    "file_fake = \"Resources/fake_articles.csv\"\n",
    "file_real = \"Resources/real_articles.csv\""
   ]
  },
  {
   "cell_type": "code",
   "execution_count": 4,
   "id": "c1d690eb",
   "metadata": {},
   "outputs": [],
   "source": [
    "# Read the Real and Fake article CSV files CSV files into DataFrames\n",
    "df_fake_articles = pd.read_csv(file_fake)\n",
    "df_real_articles = pd.read_csv(file_real)"
   ]
  },
  {
   "cell_type": "code",
   "execution_count": 5,
   "id": "da0b725a",
   "metadata": {},
   "outputs": [
    {
     "data": {
      "text/html": [
       "<div>\n",
       "<style scoped>\n",
       "    .dataframe tbody tr th:only-of-type {\n",
       "        vertical-align: middle;\n",
       "    }\n",
       "\n",
       "    .dataframe tbody tr th {\n",
       "        vertical-align: top;\n",
       "    }\n",
       "\n",
       "    .dataframe thead th {\n",
       "        text-align: right;\n",
       "    }\n",
       "</style>\n",
       "<table border=\"1\" class=\"dataframe\">\n",
       "  <thead>\n",
       "    <tr style=\"text-align: right;\">\n",
       "      <th></th>\n",
       "      <th>title</th>\n",
       "      <th>text</th>\n",
       "      <th>subject</th>\n",
       "      <th>date</th>\n",
       "    </tr>\n",
       "  </thead>\n",
       "  <tbody>\n",
       "    <tr>\n",
       "      <th>0</th>\n",
       "      <td>Donald Trump Sends Out Embarrassing New Year’...</td>\n",
       "      <td>Donald Trump just couldn t wish all Americans ...</td>\n",
       "      <td>News</td>\n",
       "      <td>December 31, 2017</td>\n",
       "    </tr>\n",
       "    <tr>\n",
       "      <th>1</th>\n",
       "      <td>Drunk Bragging Trump Staffer Started Russian ...</td>\n",
       "      <td>House Intelligence Committee Chairman Devin Nu...</td>\n",
       "      <td>News</td>\n",
       "      <td>December 31, 2017</td>\n",
       "    </tr>\n",
       "    <tr>\n",
       "      <th>2</th>\n",
       "      <td>Sheriff David Clarke Becomes An Internet Joke...</td>\n",
       "      <td>On Friday, it was revealed that former Milwauk...</td>\n",
       "      <td>News</td>\n",
       "      <td>December 30, 2017</td>\n",
       "    </tr>\n",
       "    <tr>\n",
       "      <th>3</th>\n",
       "      <td>Trump Is So Obsessed He Even Has Obama’s Name...</td>\n",
       "      <td>On Christmas day, Donald Trump announced that ...</td>\n",
       "      <td>News</td>\n",
       "      <td>December 29, 2017</td>\n",
       "    </tr>\n",
       "    <tr>\n",
       "      <th>4</th>\n",
       "      <td>Pope Francis Just Called Out Donald Trump Dur...</td>\n",
       "      <td>Pope Francis used his annual Christmas Day mes...</td>\n",
       "      <td>News</td>\n",
       "      <td>December 25, 2017</td>\n",
       "    </tr>\n",
       "  </tbody>\n",
       "</table>\n",
       "</div>"
      ],
      "text/plain": [
       "                                               title  \\\n",
       "0   Donald Trump Sends Out Embarrassing New Year’...   \n",
       "1   Drunk Bragging Trump Staffer Started Russian ...   \n",
       "2   Sheriff David Clarke Becomes An Internet Joke...   \n",
       "3   Trump Is So Obsessed He Even Has Obama’s Name...   \n",
       "4   Pope Francis Just Called Out Donald Trump Dur...   \n",
       "\n",
       "                                                text subject  \\\n",
       "0  Donald Trump just couldn t wish all Americans ...    News   \n",
       "1  House Intelligence Committee Chairman Devin Nu...    News   \n",
       "2  On Friday, it was revealed that former Milwauk...    News   \n",
       "3  On Christmas day, Donald Trump announced that ...    News   \n",
       "4  Pope Francis used his annual Christmas Day mes...    News   \n",
       "\n",
       "                date  \n",
       "0  December 31, 2017  \n",
       "1  December 31, 2017  \n",
       "2  December 30, 2017  \n",
       "3  December 29, 2017  \n",
       "4  December 25, 2017  "
      ]
     },
     "execution_count": 5,
     "metadata": {},
     "output_type": "execute_result"
    }
   ],
   "source": [
    "# Print first 5 rows of df_fake_articles dataframe\n",
    "df_fake_articles.head()"
   ]
  },
  {
   "cell_type": "code",
   "execution_count": 6,
   "id": "9dc431c9",
   "metadata": {},
   "outputs": [
    {
     "name": "stdout",
     "output_type": "stream",
     "text": [
      "Shape of df_fake_articles: (23481, 4)\n"
     ]
    }
   ],
   "source": [
    "# Display shape of df_fake_articles dataframe\n",
    "print(f'Shape of df_fake_articles: {df_fake_articles.shape}')"
   ]
  },
  {
   "cell_type": "code",
   "execution_count": 7,
   "id": "7a7b2062",
   "metadata": {},
   "outputs": [
    {
     "data": {
      "text/html": [
       "<div>\n",
       "<style scoped>\n",
       "    .dataframe tbody tr th:only-of-type {\n",
       "        vertical-align: middle;\n",
       "    }\n",
       "\n",
       "    .dataframe tbody tr th {\n",
       "        vertical-align: top;\n",
       "    }\n",
       "\n",
       "    .dataframe thead th {\n",
       "        text-align: right;\n",
       "    }\n",
       "</style>\n",
       "<table border=\"1\" class=\"dataframe\">\n",
       "  <thead>\n",
       "    <tr style=\"text-align: right;\">\n",
       "      <th></th>\n",
       "      <th>title</th>\n",
       "      <th>text</th>\n",
       "      <th>subject</th>\n",
       "      <th>date</th>\n",
       "    </tr>\n",
       "  </thead>\n",
       "  <tbody>\n",
       "    <tr>\n",
       "      <th>0</th>\n",
       "      <td>As U.S. budget fight looms, Republicans flip t...</td>\n",
       "      <td>WASHINGTON (Reuters) - The head of a conservat...</td>\n",
       "      <td>politicsNews</td>\n",
       "      <td>31-Dec-17</td>\n",
       "    </tr>\n",
       "    <tr>\n",
       "      <th>1</th>\n",
       "      <td>U.S. military to accept transgender recruits o...</td>\n",
       "      <td>WASHINGTON (Reuters) - Transgender people will...</td>\n",
       "      <td>politicsNews</td>\n",
       "      <td>29-Dec-17</td>\n",
       "    </tr>\n",
       "    <tr>\n",
       "      <th>2</th>\n",
       "      <td>Senior U.S. Republican senator: 'Let Mr. Muell...</td>\n",
       "      <td>WASHINGTON (Reuters) - The special counsel inv...</td>\n",
       "      <td>politicsNews</td>\n",
       "      <td>31-Dec-17</td>\n",
       "    </tr>\n",
       "    <tr>\n",
       "      <th>3</th>\n",
       "      <td>FBI Russia probe helped by Australian diplomat...</td>\n",
       "      <td>WASHINGTON (Reuters) - Trump campaign adviser ...</td>\n",
       "      <td>politicsNews</td>\n",
       "      <td>30-Dec-17</td>\n",
       "    </tr>\n",
       "    <tr>\n",
       "      <th>4</th>\n",
       "      <td>Trump wants Postal Service to charge 'much mor...</td>\n",
       "      <td>SEATTLE/WASHINGTON (Reuters) - President Donal...</td>\n",
       "      <td>politicsNews</td>\n",
       "      <td>29-Dec-17</td>\n",
       "    </tr>\n",
       "  </tbody>\n",
       "</table>\n",
       "</div>"
      ],
      "text/plain": [
       "                                               title  \\\n",
       "0  As U.S. budget fight looms, Republicans flip t...   \n",
       "1  U.S. military to accept transgender recruits o...   \n",
       "2  Senior U.S. Republican senator: 'Let Mr. Muell...   \n",
       "3  FBI Russia probe helped by Australian diplomat...   \n",
       "4  Trump wants Postal Service to charge 'much mor...   \n",
       "\n",
       "                                                text       subject       date  \n",
       "0  WASHINGTON (Reuters) - The head of a conservat...  politicsNews  31-Dec-17  \n",
       "1  WASHINGTON (Reuters) - Transgender people will...  politicsNews  29-Dec-17  \n",
       "2  WASHINGTON (Reuters) - The special counsel inv...  politicsNews  31-Dec-17  \n",
       "3  WASHINGTON (Reuters) - Trump campaign adviser ...  politicsNews  30-Dec-17  \n",
       "4  SEATTLE/WASHINGTON (Reuters) - President Donal...  politicsNews  29-Dec-17  "
      ]
     },
     "execution_count": 7,
     "metadata": {},
     "output_type": "execute_result"
    }
   ],
   "source": [
    "# Print first 5 rows of df_real_articles dataframe\n",
    "df_real_articles.head()"
   ]
  },
  {
   "cell_type": "code",
   "execution_count": 8,
   "id": "e126ffcc",
   "metadata": {},
   "outputs": [
    {
     "name": "stdout",
     "output_type": "stream",
     "text": [
      "Shape of df_real_articles: (21417, 4)\n"
     ]
    }
   ],
   "source": [
    "# Display shape of df_real_articles dataframe\n",
    "print(f'Shape of df_real_articles: {df_real_articles.shape}')"
   ]
  },
  {
   "cell_type": "code",
   "execution_count": 9,
   "id": "c7d1ddda",
   "metadata": {},
   "outputs": [
    {
     "name": "stdout",
     "output_type": "stream",
     "text": [
      "<class 'pandas.core.frame.DataFrame'>\n",
      "RangeIndex: 23481 entries, 0 to 23480\n",
      "Data columns (total 4 columns):\n",
      " #   Column   Non-Null Count  Dtype \n",
      "---  ------   --------------  ----- \n",
      " 0   title    23481 non-null  object\n",
      " 1   text     23481 non-null  object\n",
      " 2   subject  23481 non-null  object\n",
      " 3   date     23481 non-null  object\n",
      "dtypes: object(4)\n",
      "memory usage: 733.9+ KB\n"
     ]
    }
   ],
   "source": [
    "# Display the dataframe information\n",
    "df_fake_articles.info()"
   ]
  },
  {
   "cell_type": "code",
   "execution_count": 10,
   "id": "f7930330",
   "metadata": {},
   "outputs": [
    {
     "data": {
      "text/plain": [
       "array(['News', 'politics', 'Government News', 'left-news', 'US_News',\n",
       "       'Middle-east'], dtype=object)"
      ]
     },
     "execution_count": 10,
     "metadata": {},
     "output_type": "execute_result"
    }
   ],
   "source": [
    "# Display the df_fake_articles subject column values\n",
    "df_fake_articles['subject'].unique()"
   ]
  },
  {
   "cell_type": "code",
   "execution_count": 11,
   "id": "5c4c59cb",
   "metadata": {},
   "outputs": [],
   "source": [
    "# Convert df_fake_articles date column from object to datetime\n",
    "df_fake_articles['date'] = pd.to_datetime(df_fake_articles['date'],errors='coerce')"
   ]
  },
  {
   "cell_type": "code",
   "execution_count": 12,
   "id": "52576fe7",
   "metadata": {},
   "outputs": [
    {
     "data": {
      "text/html": [
       "<div>\n",
       "<style scoped>\n",
       "    .dataframe tbody tr th:only-of-type {\n",
       "        vertical-align: middle;\n",
       "    }\n",
       "\n",
       "    .dataframe tbody tr th {\n",
       "        vertical-align: top;\n",
       "    }\n",
       "\n",
       "    .dataframe thead th {\n",
       "        text-align: right;\n",
       "    }\n",
       "</style>\n",
       "<table border=\"1\" class=\"dataframe\">\n",
       "  <thead>\n",
       "    <tr style=\"text-align: right;\">\n",
       "      <th></th>\n",
       "      <th>title</th>\n",
       "      <th>text</th>\n",
       "      <th>subject</th>\n",
       "      <th>date</th>\n",
       "    </tr>\n",
       "  </thead>\n",
       "  <tbody>\n",
       "    <tr>\n",
       "      <th>0</th>\n",
       "      <td>Donald Trump Sends Out Embarrassing New Year’...</td>\n",
       "      <td>Donald Trump just couldn t wish all Americans ...</td>\n",
       "      <td>News</td>\n",
       "      <td>2017-12-31</td>\n",
       "    </tr>\n",
       "    <tr>\n",
       "      <th>1</th>\n",
       "      <td>Drunk Bragging Trump Staffer Started Russian ...</td>\n",
       "      <td>House Intelligence Committee Chairman Devin Nu...</td>\n",
       "      <td>News</td>\n",
       "      <td>2017-12-31</td>\n",
       "    </tr>\n",
       "    <tr>\n",
       "      <th>2</th>\n",
       "      <td>Sheriff David Clarke Becomes An Internet Joke...</td>\n",
       "      <td>On Friday, it was revealed that former Milwauk...</td>\n",
       "      <td>News</td>\n",
       "      <td>2017-12-30</td>\n",
       "    </tr>\n",
       "    <tr>\n",
       "      <th>3</th>\n",
       "      <td>Trump Is So Obsessed He Even Has Obama’s Name...</td>\n",
       "      <td>On Christmas day, Donald Trump announced that ...</td>\n",
       "      <td>News</td>\n",
       "      <td>2017-12-29</td>\n",
       "    </tr>\n",
       "    <tr>\n",
       "      <th>4</th>\n",
       "      <td>Pope Francis Just Called Out Donald Trump Dur...</td>\n",
       "      <td>Pope Francis used his annual Christmas Day mes...</td>\n",
       "      <td>News</td>\n",
       "      <td>2017-12-25</td>\n",
       "    </tr>\n",
       "  </tbody>\n",
       "</table>\n",
       "</div>"
      ],
      "text/plain": [
       "                                               title  \\\n",
       "0   Donald Trump Sends Out Embarrassing New Year’...   \n",
       "1   Drunk Bragging Trump Staffer Started Russian ...   \n",
       "2   Sheriff David Clarke Becomes An Internet Joke...   \n",
       "3   Trump Is So Obsessed He Even Has Obama’s Name...   \n",
       "4   Pope Francis Just Called Out Donald Trump Dur...   \n",
       "\n",
       "                                                text subject       date  \n",
       "0  Donald Trump just couldn t wish all Americans ...    News 2017-12-31  \n",
       "1  House Intelligence Committee Chairman Devin Nu...    News 2017-12-31  \n",
       "2  On Friday, it was revealed that former Milwauk...    News 2017-12-30  \n",
       "3  On Christmas day, Donald Trump announced that ...    News 2017-12-29  \n",
       "4  Pope Francis used his annual Christmas Day mes...    News 2017-12-25  "
      ]
     },
     "execution_count": 12,
     "metadata": {},
     "output_type": "execute_result"
    }
   ],
   "source": [
    "# Display first 5 rows of the df_fake_articles dataframe information after datetime conversion\n",
    "df_fake_articles.head()"
   ]
  },
  {
   "cell_type": "code",
   "execution_count": 13,
   "id": "059e4e60",
   "metadata": {},
   "outputs": [
    {
     "name": "stdout",
     "output_type": "stream",
     "text": [
      "<class 'pandas.core.frame.DataFrame'>\n",
      "RangeIndex: 23481 entries, 0 to 23480\n",
      "Data columns (total 4 columns):\n",
      " #   Column   Non-Null Count  Dtype         \n",
      "---  ------   --------------  -----         \n",
      " 0   title    23481 non-null  object        \n",
      " 1   text     23481 non-null  object        \n",
      " 2   subject  23481 non-null  object        \n",
      " 3   date     11868 non-null  datetime64[ns]\n",
      "dtypes: datetime64[ns](1), object(3)\n",
      "memory usage: 733.9+ KB\n"
     ]
    }
   ],
   "source": [
    "# Display the df_fake_articles dataframe information after datetime conversion to confirm there are no nulls\n",
    "df_fake_articles.info()"
   ]
  },
  {
   "cell_type": "code",
   "execution_count": 14,
   "id": "145c1622",
   "metadata": {},
   "outputs": [
    {
     "name": "stdout",
     "output_type": "stream",
     "text": [
      "                                                  title  \\\n",
      "9050  Democrat Senator Warns Mueller Not To Release ...   \n",
      "9051  MSNBC ANCHOR Flabbergasted at What Texas Teach...   \n",
      "9052  WATCH: SNOWFLAKES ASKED Communist Party Platfo...   \n",
      "9053  JUST IN: BADASS GENERAL JOHN KELLY Shoved Chin...   \n",
      "9054  DOJ’s JEFF SESSIONS Opens Investigation Into W...   \n",
      "\n",
      "                                                   text   subject date  \n",
      "9050  According to The Hill, Democrat Senator Bob Ca...  politics  NaT  \n",
      "9051  If we protect every other government building ...  politics  NaT  \n",
      "9052  Ami Horowitz is fantastic! Check out this man ...  politics  NaT  \n",
      "9053  Just one more reminder of why President Trump ...  politics  NaT  \n",
      "9054  Thank goodnesss Jeff Sessions is moving on fin...  politics  NaT  \n"
     ]
    }
   ],
   "source": [
    "# The df_fake_articles date column contained a lot of bad dates that were converted to nulls,\n",
    "# only 11868 of 23481 rows contain dates. We will review some of the rows with null dates to\n",
    "# see if the articles seem valid.\n",
    "df_fake_null_date_rows = df_fake_articles.loc[df_fake_articles['date'].isnull()]\n",
    "print(df_fake_null_date_rows.head())"
   ]
  },
  {
   "cell_type": "code",
   "execution_count": 15,
   "id": "f088e4dd",
   "metadata": {},
   "outputs": [
    {
     "name": "stdout",
     "output_type": "stream",
     "text": [
      "                                               title  \\\n",
      "0   Donald Trump Sends Out Embarrassing New Year’...   \n",
      "1   Drunk Bragging Trump Staffer Started Russian ...   \n",
      "2   Sheriff David Clarke Becomes An Internet Joke...   \n",
      "3   Trump Is So Obsessed He Even Has Obama’s Name...   \n",
      "4   Pope Francis Just Called Out Donald Trump Dur...   \n",
      "\n",
      "                                                text subject  \n",
      "0  Donald Trump just couldn t wish all Americans ...    News  \n",
      "1  House Intelligence Committee Chairman Devin Nu...    News  \n",
      "2  On Friday, it was revealed that former Milwauk...    News  \n",
      "3  On Christmas day, Donald Trump announced that ...    News  \n",
      "4  Pope Francis used his annual Christmas Day mes...    News  \n",
      "<class 'pandas.core.frame.DataFrame'>\n",
      "RangeIndex: 23481 entries, 0 to 23480\n",
      "Data columns (total 3 columns):\n",
      " #   Column   Non-Null Count  Dtype \n",
      "---  ------   --------------  ----- \n",
      " 0   title    23481 non-null  object\n",
      " 1   text     23481 non-null  object\n",
      " 2   subject  23481 non-null  object\n",
      "dtypes: object(3)\n",
      "memory usage: 550.5+ KB\n",
      "None\n"
     ]
    }
   ],
   "source": [
    "# The df_fake_articles columns for the rows with a null date look good.  Our analysis is not be based on\n",
    "#  the date, so we will drop the date column from our dataframe and continue with our analysis.\n",
    "df_fake_articles_revised = df_fake_articles.drop('date', axis=1)\n",
    "print(df_fake_articles_revised.head())\n",
    "print(df_fake_articles_revised.info())"
   ]
  },
  {
   "cell_type": "code",
   "execution_count": 16,
   "id": "108a62c8",
   "metadata": {},
   "outputs": [
    {
     "name": "stdout",
     "output_type": "stream",
     "text": [
      "<class 'pandas.core.frame.DataFrame'>\n",
      "RangeIndex: 21417 entries, 0 to 21416\n",
      "Data columns (total 4 columns):\n",
      " #   Column   Non-Null Count  Dtype \n",
      "---  ------   --------------  ----- \n",
      " 0   title    21417 non-null  object\n",
      " 1   text     21417 non-null  object\n",
      " 2   subject  21417 non-null  object\n",
      " 3   date     21417 non-null  object\n",
      "dtypes: object(4)\n",
      "memory usage: 669.4+ KB\n"
     ]
    }
   ],
   "source": [
    "# Display the dataframe information\n",
    "df_real_articles.info()"
   ]
  },
  {
   "cell_type": "code",
   "execution_count": 17,
   "id": "2b94846c",
   "metadata": {},
   "outputs": [
    {
     "data": {
      "text/plain": [
       "array(['politicsNews', 'worldnews'], dtype=object)"
      ]
     },
     "execution_count": 17,
     "metadata": {},
     "output_type": "execute_result"
    }
   ],
   "source": [
    "# Display the df_real_articles subject column values\n",
    "df_real_articles['subject'].unique()"
   ]
  },
  {
   "cell_type": "code",
   "execution_count": 18,
   "id": "fea2e069",
   "metadata": {},
   "outputs": [
    {
     "name": "stderr",
     "output_type": "stream",
     "text": [
      "C:\\Users\\tacle\\AppData\\Local\\Temp\\ipykernel_26876\\2896937733.py:2: UserWarning: Could not infer format, so each element will be parsed individually, falling back to `dateutil`. To ensure parsing is consistent and as-expected, please specify a format.\n",
      "  df_real_articles['date'] = pd.to_datetime(df_real_articles['date'],errors='coerce')\n"
     ]
    }
   ],
   "source": [
    "# Convert df_real_articles date column from object to datetime\n",
    "df_real_articles['date'] = pd.to_datetime(df_real_articles['date'],errors='coerce')"
   ]
  },
  {
   "cell_type": "code",
   "execution_count": 19,
   "id": "c0cafe84",
   "metadata": {},
   "outputs": [
    {
     "data": {
      "text/html": [
       "<div>\n",
       "<style scoped>\n",
       "    .dataframe tbody tr th:only-of-type {\n",
       "        vertical-align: middle;\n",
       "    }\n",
       "\n",
       "    .dataframe tbody tr th {\n",
       "        vertical-align: top;\n",
       "    }\n",
       "\n",
       "    .dataframe thead th {\n",
       "        text-align: right;\n",
       "    }\n",
       "</style>\n",
       "<table border=\"1\" class=\"dataframe\">\n",
       "  <thead>\n",
       "    <tr style=\"text-align: right;\">\n",
       "      <th></th>\n",
       "      <th>title</th>\n",
       "      <th>text</th>\n",
       "      <th>subject</th>\n",
       "      <th>date</th>\n",
       "    </tr>\n",
       "  </thead>\n",
       "  <tbody>\n",
       "    <tr>\n",
       "      <th>0</th>\n",
       "      <td>As U.S. budget fight looms, Republicans flip t...</td>\n",
       "      <td>WASHINGTON (Reuters) - The head of a conservat...</td>\n",
       "      <td>politicsNews</td>\n",
       "      <td>2017-12-31</td>\n",
       "    </tr>\n",
       "    <tr>\n",
       "      <th>1</th>\n",
       "      <td>U.S. military to accept transgender recruits o...</td>\n",
       "      <td>WASHINGTON (Reuters) - Transgender people will...</td>\n",
       "      <td>politicsNews</td>\n",
       "      <td>2017-12-29</td>\n",
       "    </tr>\n",
       "    <tr>\n",
       "      <th>2</th>\n",
       "      <td>Senior U.S. Republican senator: 'Let Mr. Muell...</td>\n",
       "      <td>WASHINGTON (Reuters) - The special counsel inv...</td>\n",
       "      <td>politicsNews</td>\n",
       "      <td>2017-12-31</td>\n",
       "    </tr>\n",
       "    <tr>\n",
       "      <th>3</th>\n",
       "      <td>FBI Russia probe helped by Australian diplomat...</td>\n",
       "      <td>WASHINGTON (Reuters) - Trump campaign adviser ...</td>\n",
       "      <td>politicsNews</td>\n",
       "      <td>2017-12-30</td>\n",
       "    </tr>\n",
       "    <tr>\n",
       "      <th>4</th>\n",
       "      <td>Trump wants Postal Service to charge 'much mor...</td>\n",
       "      <td>SEATTLE/WASHINGTON (Reuters) - President Donal...</td>\n",
       "      <td>politicsNews</td>\n",
       "      <td>2017-12-29</td>\n",
       "    </tr>\n",
       "  </tbody>\n",
       "</table>\n",
       "</div>"
      ],
      "text/plain": [
       "                                               title  \\\n",
       "0  As U.S. budget fight looms, Republicans flip t...   \n",
       "1  U.S. military to accept transgender recruits o...   \n",
       "2  Senior U.S. Republican senator: 'Let Mr. Muell...   \n",
       "3  FBI Russia probe helped by Australian diplomat...   \n",
       "4  Trump wants Postal Service to charge 'much mor...   \n",
       "\n",
       "                                                text       subject       date  \n",
       "0  WASHINGTON (Reuters) - The head of a conservat...  politicsNews 2017-12-31  \n",
       "1  WASHINGTON (Reuters) - Transgender people will...  politicsNews 2017-12-29  \n",
       "2  WASHINGTON (Reuters) - The special counsel inv...  politicsNews 2017-12-31  \n",
       "3  WASHINGTON (Reuters) - Trump campaign adviser ...  politicsNews 2017-12-30  \n",
       "4  SEATTLE/WASHINGTON (Reuters) - President Donal...  politicsNews 2017-12-29  "
      ]
     },
     "execution_count": 19,
     "metadata": {},
     "output_type": "execute_result"
    }
   ],
   "source": [
    "# Print first 5 rows of updated df_real_articles dataframe after date conversion\n",
    "df_real_articles.head()"
   ]
  },
  {
   "cell_type": "code",
   "execution_count": 20,
   "id": "3a578234",
   "metadata": {},
   "outputs": [
    {
     "name": "stdout",
     "output_type": "stream",
     "text": [
      "<class 'pandas.core.frame.DataFrame'>\n",
      "RangeIndex: 21417 entries, 0 to 21416\n",
      "Data columns (total 4 columns):\n",
      " #   Column   Non-Null Count  Dtype         \n",
      "---  ------   --------------  -----         \n",
      " 0   title    21417 non-null  object        \n",
      " 1   text     21417 non-null  object        \n",
      " 2   subject  21417 non-null  object        \n",
      " 3   date     21417 non-null  datetime64[ns]\n",
      "dtypes: datetime64[ns](1), object(3)\n",
      "memory usage: 669.4+ KB\n"
     ]
    }
   ],
   "source": [
    "# Display the df_real_articles dataframe information after datetime conversion to confirm there are no nulls\n",
    "df_real_articles.info()"
   ]
  },
  {
   "cell_type": "code",
   "execution_count": 21,
   "id": "bb5ae9d0",
   "metadata": {},
   "outputs": [
    {
     "name": "stdout",
     "output_type": "stream",
     "text": [
      "                                               title  \\\n",
      "0  As U.S. budget fight looms, Republicans flip t...   \n",
      "1  U.S. military to accept transgender recruits o...   \n",
      "2  Senior U.S. Republican senator: 'Let Mr. Muell...   \n",
      "3  FBI Russia probe helped by Australian diplomat...   \n",
      "4  Trump wants Postal Service to charge 'much mor...   \n",
      "\n",
      "                                                text       subject  \n",
      "0  WASHINGTON (Reuters) - The head of a conservat...  politicsNews  \n",
      "1  WASHINGTON (Reuters) - Transgender people will...  politicsNews  \n",
      "2  WASHINGTON (Reuters) - The special counsel inv...  politicsNews  \n",
      "3  WASHINGTON (Reuters) - Trump campaign adviser ...  politicsNews  \n",
      "4  SEATTLE/WASHINGTON (Reuters) - President Donal...  politicsNews  \n",
      "<class 'pandas.core.frame.DataFrame'>\n",
      "RangeIndex: 21417 entries, 0 to 21416\n",
      "Data columns (total 3 columns):\n",
      " #   Column   Non-Null Count  Dtype \n",
      "---  ------   --------------  ----- \n",
      " 0   title    21417 non-null  object\n",
      " 1   text     21417 non-null  object\n",
      " 2   subject  21417 non-null  object\n",
      "dtypes: object(3)\n",
      "memory usage: 502.1+ KB\n",
      "None\n"
     ]
    }
   ],
   "source": [
    "# All df_real_articles dates converted successfully.  Our analysis is not be based on the date,\n",
    "# so we will drop the date column from our dataframe to be consistent with the df_real_articles\n",
    "# dataframe and continue with our analysis.\n",
    "df_real_articles_revised = df_real_articles.drop('date', axis=1)\n",
    "print(df_real_articles_revised.head())\n",
    "print(df_real_articles_revised.info())"
   ]
  },
  {
   "cell_type": "code",
   "execution_count": 22,
   "id": "a6e34590",
   "metadata": {},
   "outputs": [],
   "source": [
    "# Add a new column \"class\" to each DataFrame and set values for Real and Fake articles\n",
    "# class:  Fake = 0;  Real = 1\n",
    "df_fake_articles_revised['class'] = 0\n",
    "df_real_articles_revised['class'] = 1\n"
   ]
  },
  {
   "cell_type": "code",
   "execution_count": 23,
   "id": "b98fe65b",
   "metadata": {},
   "outputs": [
    {
     "name": "stdout",
     "output_type": "stream",
     "text": [
      "df_fake_articles_revised dataframe:\n",
      "                                               title  \\\n",
      "0   Donald Trump Sends Out Embarrassing New Year’...   \n",
      "1   Drunk Bragging Trump Staffer Started Russian ...   \n",
      "2   Sheriff David Clarke Becomes An Internet Joke...   \n",
      "3   Trump Is So Obsessed He Even Has Obama’s Name...   \n",
      "4   Pope Francis Just Called Out Donald Trump Dur...   \n",
      "\n",
      "                                                text subject  class  \n",
      "0  Donald Trump just couldn t wish all Americans ...    News      0  \n",
      "1  House Intelligence Committee Chairman Devin Nu...    News      0  \n",
      "2  On Friday, it was revealed that former Milwauk...    News      0  \n",
      "3  On Christmas day, Donald Trump announced that ...    News      0  \n",
      "4  Pope Francis used his annual Christmas Day mes...    News      0  \n",
      "\n",
      "\n",
      "df_fake_articles_revised info:\n",
      "<class 'pandas.core.frame.DataFrame'>\n",
      "RangeIndex: 23481 entries, 0 to 23480\n",
      "Data columns (total 4 columns):\n",
      " #   Column   Non-Null Count  Dtype \n",
      "---  ------   --------------  ----- \n",
      " 0   title    23481 non-null  object\n",
      " 1   text     23481 non-null  object\n",
      " 2   subject  23481 non-null  object\n",
      " 3   class    23481 non-null  int64 \n",
      "dtypes: int64(1), object(3)\n",
      "memory usage: 733.9+ KB\n",
      "None\n"
     ]
    }
   ],
   "source": [
    "# Print the first 5 rows and info of df_fake_articles_revised dataframe to verify the changes\n",
    "print(\"df_fake_articles_revised dataframe:\")\n",
    "print(df_fake_articles_revised.head())\n",
    "print('\\n')\n",
    "print(\"df_fake_articles_revised info:\")\n",
    "print(df_fake_articles_revised.info())"
   ]
  },
  {
   "cell_type": "code",
   "execution_count": 24,
   "id": "c8a35feb",
   "metadata": {},
   "outputs": [
    {
     "name": "stdout",
     "output_type": "stream",
     "text": [
      "df_real_articles_revised dataframe:\n",
      "                                               title  \\\n",
      "0  As U.S. budget fight looms, Republicans flip t...   \n",
      "1  U.S. military to accept transgender recruits o...   \n",
      "2  Senior U.S. Republican senator: 'Let Mr. Muell...   \n",
      "3  FBI Russia probe helped by Australian diplomat...   \n",
      "4  Trump wants Postal Service to charge 'much mor...   \n",
      "\n",
      "                                                text       subject  class  \n",
      "0  WASHINGTON (Reuters) - The head of a conservat...  politicsNews      1  \n",
      "1  WASHINGTON (Reuters) - Transgender people will...  politicsNews      1  \n",
      "2  WASHINGTON (Reuters) - The special counsel inv...  politicsNews      1  \n",
      "3  WASHINGTON (Reuters) - Trump campaign adviser ...  politicsNews      1  \n",
      "4  SEATTLE/WASHINGTON (Reuters) - President Donal...  politicsNews      1  \n",
      "\n",
      "\n",
      "df_real_articles_revised info:\n",
      "<class 'pandas.core.frame.DataFrame'>\n",
      "RangeIndex: 21417 entries, 0 to 21416\n",
      "Data columns (total 4 columns):\n",
      " #   Column   Non-Null Count  Dtype \n",
      "---  ------   --------------  ----- \n",
      " 0   title    21417 non-null  object\n",
      " 1   text     21417 non-null  object\n",
      " 2   subject  21417 non-null  object\n",
      " 3   class    21417 non-null  int64 \n",
      "dtypes: int64(1), object(3)\n",
      "memory usage: 669.4+ KB\n",
      "None\n"
     ]
    }
   ],
   "source": [
    "# Print the first 5 rows and shape of df_real_articles_revised dataframe to verify the changes\n",
    "print(\"df_real_articles_revised dataframe:\")\n",
    "print(df_real_articles_revised.head())\n",
    "print('\\n')\n",
    "print(\"df_real_articles_revised info:\")\n",
    "print(df_real_articles_revised.info())"
   ]
  },
  {
   "cell_type": "code",
   "execution_count": 25,
   "id": "98f3f532",
   "metadata": {},
   "outputs": [
    {
     "name": "stdout",
     "output_type": "stream",
     "text": [
      "                                               title  \\\n",
      "0   Donald Trump Sends Out Embarrassing New Year’...   \n",
      "1   Drunk Bragging Trump Staffer Started Russian ...   \n",
      "2   Sheriff David Clarke Becomes An Internet Joke...   \n",
      "3   Trump Is So Obsessed He Even Has Obama’s Name...   \n",
      "4   Pope Francis Just Called Out Donald Trump Dur...   \n",
      "\n",
      "                                                text subject  class  \n",
      "0  Donald Trump just couldn t wish all Americans ...    News      0  \n",
      "1  House Intelligence Committee Chairman Devin Nu...    News      0  \n",
      "2  On Friday, it was revealed that former Milwauk...    News      0  \n",
      "3  On Christmas day, Donald Trump announced that ...    News      0  \n",
      "4  Pope Francis used his annual Christmas Day mes...    News      0  \n",
      "                                                   title  \\\n",
      "44893  'Fully committed' NATO backs new U.S. approach...   \n",
      "44894  LexisNexis withdrew two products from Chinese ...   \n",
      "44895  Minsk cultural hub becomes haven from authorities   \n",
      "44896  Vatican upbeat on possibility of Pope Francis ...   \n",
      "44897  Indonesia to buy $1.14 billion worth of Russia...   \n",
      "\n",
      "                                                    text    subject  class  \n",
      "44893  BRUSSELS (Reuters) - NATO allies on Tuesday we...  worldnews      1  \n",
      "44894  LONDON (Reuters) - LexisNexis, a provider of l...  worldnews      1  \n",
      "44895  MINSK (Reuters) - In the shadow of disused Sov...  worldnews      1  \n",
      "44896  MOSCOW (Reuters) - Vatican Secretary of State ...  worldnews      1  \n",
      "44897  JAKARTA (Reuters) - Indonesia will buy 11 Sukh...  worldnews      1  \n"
     ]
    }
   ],
   "source": [
    "# Concatenate df_fake_articles and df_real_articles dataframes into new df_merged_articles dataframe\n",
    "df_merged_articles = pd.concat([df_fake_articles_revised, df_real_articles_revised], ignore_index=True)\n",
    "\n",
    "# Display first and last 5 rows of df_merged_articles dataframe\n",
    "print(df_merged_articles.head(5))\n",
    "print(df_merged_articles.tail(5))"
   ]
  },
  {
   "cell_type": "code",
   "execution_count": 26,
   "id": "960bc9cc",
   "metadata": {},
   "outputs": [
    {
     "data": {
      "text/plain": [
       "class\n",
       "0    23481\n",
       "1    21417\n",
       "Name: count, dtype: int64"
      ]
     },
     "execution_count": 26,
     "metadata": {},
     "output_type": "execute_result"
    }
   ],
   "source": [
    "# Verify \"class\" column after concatenation\n",
    "df_merged_articles['class'].value_counts()"
   ]
  },
  {
   "cell_type": "code",
   "execution_count": 27,
   "id": "a081aa02",
   "metadata": {},
   "outputs": [
    {
     "data": {
      "text/plain": [
       "(44898, 4)"
      ]
     },
     "execution_count": 27,
     "metadata": {},
     "output_type": "execute_result"
    }
   ],
   "source": [
    "# Display df_merged_articles shape\n",
    "df_merged_articles.shape"
   ]
  },
  {
   "cell_type": "code",
   "execution_count": 28,
   "id": "905a1256",
   "metadata": {},
   "outputs": [
    {
     "name": "stdout",
     "output_type": "stream",
     "text": [
      "<class 'pandas.core.frame.DataFrame'>\n",
      "RangeIndex: 44898 entries, 0 to 44897\n",
      "Data columns (total 4 columns):\n",
      " #   Column   Non-Null Count  Dtype \n",
      "---  ------   --------------  ----- \n",
      " 0   title    44898 non-null  object\n",
      " 1   text     44898 non-null  object\n",
      " 2   subject  44898 non-null  object\n",
      " 3   class    44898 non-null  int64 \n",
      "dtypes: int64(1), object(3)\n",
      "memory usage: 1.4+ MB\n"
     ]
    }
   ],
   "source": [
    "# Display info for df_merged_articles dataframe\n",
    "df_merged_articles.info()"
   ]
  },
  {
   "cell_type": "code",
   "execution_count": 29,
   "id": "0ca38a30",
   "metadata": {},
   "outputs": [],
   "source": [
    "# Define function to clean articles by convering all text to lower case, removing unnecessary punctuation,\n",
    "# removing numbers, stopwords, tokenizing, and Lemmatizing the data. \n",
    "def clean_text(text):\n",
    "    # Convert text to lowercase\n",
    "    text = text.lower()\n",
    "\n",
    "    # Remove URLs\n",
    "    text = re.sub(r'https?://\\S+|www\\.\\S+', '', text)\n",
    "\n",
    "    # Remove HTML tags\n",
    "    text = re.sub(r'<.*?>', '', text)\n",
    "\n",
    "    # Remove punctuation\n",
    "    text = re.sub(r'[^\\w\\s]', '', text)\n",
    "\n",
    "    # Remove numbers\n",
    "    text = re.sub(r'\\d+', '', text)\n",
    "\n",
    "    # Tokenize the text\n",
    "    words = word_tokenize(text)\n",
    "\n",
    "    # Remove stopwords\n",
    "    stop_words = set(stopwords.words('english'))\n",
    "    words = [word for word in words if word not in stop_words]\n",
    "    \n",
    "    # Initialize the WordNet lemmatizer\n",
    "    lemmatizer = WordNetLemmatizer()\n",
    "    \n",
    "    # Lemmatize the words\n",
    "    words = [lemmatizer.lemmatize(word) for word in words]\n",
    "\n",
    "    # Join the words back into a single string\n",
    "    cleaned_text = ' '.join(words)\n",
    "    \n",
    "    return cleaned_text"
   ]
  },
  {
   "cell_type": "code",
   "execution_count": 30,
   "id": "d6822e18",
   "metadata": {},
   "outputs": [
    {
     "name": "stdout",
     "output_type": "stream",
     "text": [
      "example sentence number like special character well url\n"
     ]
    }
   ],
   "source": [
    "# Test clean_text function to confirm that it works as expected \n",
    "dirty_text = \"This is an example sentence with some numbers like 123, and special characters !@#$, as well as URLs https://www.example.com\"\n",
    "cleaned_text = clean_text(dirty_text)\n",
    "print(cleaned_text)"
   ]
  },
  {
   "cell_type": "code",
   "execution_count": 31,
   "id": "76aad923",
   "metadata": {},
   "outputs": [
    {
     "data": {
      "text/html": [
       "<div>\n",
       "<style scoped>\n",
       "    .dataframe tbody tr th:only-of-type {\n",
       "        vertical-align: middle;\n",
       "    }\n",
       "\n",
       "    .dataframe tbody tr th {\n",
       "        vertical-align: top;\n",
       "    }\n",
       "\n",
       "    .dataframe thead th {\n",
       "        text-align: right;\n",
       "    }\n",
       "</style>\n",
       "<table border=\"1\" class=\"dataframe\">\n",
       "  <thead>\n",
       "    <tr style=\"text-align: right;\">\n",
       "      <th></th>\n",
       "      <th>title</th>\n",
       "      <th>text</th>\n",
       "      <th>subject</th>\n",
       "      <th>class</th>\n",
       "      <th>cleaned_text</th>\n",
       "    </tr>\n",
       "  </thead>\n",
       "  <tbody>\n",
       "    <tr>\n",
       "      <th>0</th>\n",
       "      <td>Donald Trump Sends Out Embarrassing New Year’...</td>\n",
       "      <td>Donald Trump just couldn t wish all Americans ...</td>\n",
       "      <td>News</td>\n",
       "      <td>0</td>\n",
       "      <td>donald trump wish american happy new year leav...</td>\n",
       "    </tr>\n",
       "    <tr>\n",
       "      <th>1</th>\n",
       "      <td>Drunk Bragging Trump Staffer Started Russian ...</td>\n",
       "      <td>House Intelligence Committee Chairman Devin Nu...</td>\n",
       "      <td>News</td>\n",
       "      <td>0</td>\n",
       "      <td>house intelligence committee chairman devin nu...</td>\n",
       "    </tr>\n",
       "    <tr>\n",
       "      <th>2</th>\n",
       "      <td>Sheriff David Clarke Becomes An Internet Joke...</td>\n",
       "      <td>On Friday, it was revealed that former Milwauk...</td>\n",
       "      <td>News</td>\n",
       "      <td>0</td>\n",
       "      <td>friday revealed former milwaukee sheriff david...</td>\n",
       "    </tr>\n",
       "    <tr>\n",
       "      <th>3</th>\n",
       "      <td>Trump Is So Obsessed He Even Has Obama’s Name...</td>\n",
       "      <td>On Christmas day, Donald Trump announced that ...</td>\n",
       "      <td>News</td>\n",
       "      <td>0</td>\n",
       "      <td>christmas day donald trump announced would bac...</td>\n",
       "    </tr>\n",
       "    <tr>\n",
       "      <th>4</th>\n",
       "      <td>Pope Francis Just Called Out Donald Trump Dur...</td>\n",
       "      <td>Pope Francis used his annual Christmas Day mes...</td>\n",
       "      <td>News</td>\n",
       "      <td>0</td>\n",
       "      <td>pope francis used annual christmas day message...</td>\n",
       "    </tr>\n",
       "  </tbody>\n",
       "</table>\n",
       "</div>"
      ],
      "text/plain": [
       "                                               title  \\\n",
       "0   Donald Trump Sends Out Embarrassing New Year’...   \n",
       "1   Drunk Bragging Trump Staffer Started Russian ...   \n",
       "2   Sheriff David Clarke Becomes An Internet Joke...   \n",
       "3   Trump Is So Obsessed He Even Has Obama’s Name...   \n",
       "4   Pope Francis Just Called Out Donald Trump Dur...   \n",
       "\n",
       "                                                text subject  class  \\\n",
       "0  Donald Trump just couldn t wish all Americans ...    News      0   \n",
       "1  House Intelligence Committee Chairman Devin Nu...    News      0   \n",
       "2  On Friday, it was revealed that former Milwauk...    News      0   \n",
       "3  On Christmas day, Donald Trump announced that ...    News      0   \n",
       "4  Pope Francis used his annual Christmas Day mes...    News      0   \n",
       "\n",
       "                                        cleaned_text  \n",
       "0  donald trump wish american happy new year leav...  \n",
       "1  house intelligence committee chairman devin nu...  \n",
       "2  friday revealed former milwaukee sheriff david...  \n",
       "3  christmas day donald trump announced would bac...  \n",
       "4  pope francis used annual christmas day message...  "
      ]
     },
     "execution_count": 31,
     "metadata": {},
     "output_type": "execute_result"
    }
   ],
   "source": [
    "# Create new cleaned_text column by applying the clean_text function to the article text \n",
    "df_merged_articles['cleaned_text'] = df_merged_articles['text'].apply(clean_text)\n",
    "df_merged_articles.head()"
   ]
  },
  {
   "cell_type": "code",
   "execution_count": 32,
   "id": "d84b6fcf",
   "metadata": {},
   "outputs": [
    {
     "data": {
      "text/plain": [
       "Index(['title', 'text', 'subject', 'class', 'cleaned_text'], dtype='object')"
      ]
     },
     "execution_count": 32,
     "metadata": {},
     "output_type": "execute_result"
    }
   ],
   "source": [
    "# Display columns of df_merged_articles dataframe after new cleaned_text column was added \n",
    "df_merged_articles.columns"
   ]
  },
  {
   "cell_type": "code",
   "execution_count": 33,
   "id": "fe0d4872",
   "metadata": {},
   "outputs": [
    {
     "data": {
      "text/html": [
       "<div>\n",
       "<style scoped>\n",
       "    .dataframe tbody tr th:only-of-type {\n",
       "        vertical-align: middle;\n",
       "    }\n",
       "\n",
       "    .dataframe tbody tr th {\n",
       "        vertical-align: top;\n",
       "    }\n",
       "\n",
       "    .dataframe thead th {\n",
       "        text-align: right;\n",
       "    }\n",
       "</style>\n",
       "<table border=\"1\" class=\"dataframe\">\n",
       "  <thead>\n",
       "    <tr style=\"text-align: right;\">\n",
       "      <th></th>\n",
       "      <th>title</th>\n",
       "      <th>text</th>\n",
       "      <th>cleaned_text</th>\n",
       "      <th>subject</th>\n",
       "      <th>class</th>\n",
       "    </tr>\n",
       "  </thead>\n",
       "  <tbody>\n",
       "    <tr>\n",
       "      <th>0</th>\n",
       "      <td>Donald Trump Sends Out Embarrassing New Year’...</td>\n",
       "      <td>Donald Trump just couldn t wish all Americans ...</td>\n",
       "      <td>donald trump wish american happy new year leav...</td>\n",
       "      <td>News</td>\n",
       "      <td>0</td>\n",
       "    </tr>\n",
       "    <tr>\n",
       "      <th>1</th>\n",
       "      <td>Drunk Bragging Trump Staffer Started Russian ...</td>\n",
       "      <td>House Intelligence Committee Chairman Devin Nu...</td>\n",
       "      <td>house intelligence committee chairman devin nu...</td>\n",
       "      <td>News</td>\n",
       "      <td>0</td>\n",
       "    </tr>\n",
       "    <tr>\n",
       "      <th>2</th>\n",
       "      <td>Sheriff David Clarke Becomes An Internet Joke...</td>\n",
       "      <td>On Friday, it was revealed that former Milwauk...</td>\n",
       "      <td>friday revealed former milwaukee sheriff david...</td>\n",
       "      <td>News</td>\n",
       "      <td>0</td>\n",
       "    </tr>\n",
       "    <tr>\n",
       "      <th>3</th>\n",
       "      <td>Trump Is So Obsessed He Even Has Obama’s Name...</td>\n",
       "      <td>On Christmas day, Donald Trump announced that ...</td>\n",
       "      <td>christmas day donald trump announced would bac...</td>\n",
       "      <td>News</td>\n",
       "      <td>0</td>\n",
       "    </tr>\n",
       "    <tr>\n",
       "      <th>4</th>\n",
       "      <td>Pope Francis Just Called Out Donald Trump Dur...</td>\n",
       "      <td>Pope Francis used his annual Christmas Day mes...</td>\n",
       "      <td>pope francis used annual christmas day message...</td>\n",
       "      <td>News</td>\n",
       "      <td>0</td>\n",
       "    </tr>\n",
       "  </tbody>\n",
       "</table>\n",
       "</div>"
      ],
      "text/plain": [
       "                                               title  \\\n",
       "0   Donald Trump Sends Out Embarrassing New Year’...   \n",
       "1   Drunk Bragging Trump Staffer Started Russian ...   \n",
       "2   Sheriff David Clarke Becomes An Internet Joke...   \n",
       "3   Trump Is So Obsessed He Even Has Obama’s Name...   \n",
       "4   Pope Francis Just Called Out Donald Trump Dur...   \n",
       "\n",
       "                                                text  \\\n",
       "0  Donald Trump just couldn t wish all Americans ...   \n",
       "1  House Intelligence Committee Chairman Devin Nu...   \n",
       "2  On Friday, it was revealed that former Milwauk...   \n",
       "3  On Christmas day, Donald Trump announced that ...   \n",
       "4  Pope Francis used his annual Christmas Day mes...   \n",
       "\n",
       "                                        cleaned_text subject  class  \n",
       "0  donald trump wish american happy new year leav...    News      0  \n",
       "1  house intelligence committee chairman devin nu...    News      0  \n",
       "2  friday revealed former milwaukee sheriff david...    News      0  \n",
       "3  christmas day donald trump announced would bac...    News      0  \n",
       "4  pope francis used annual christmas day message...    News      0  "
      ]
     },
     "execution_count": 33,
     "metadata": {},
     "output_type": "execute_result"
    }
   ],
   "source": [
    "# Reorder dataframe columns to create df_merged_articles_clean dataframe before saving for use by other notebooks\n",
    "reorder_cols = ['title', 'text', 'cleaned_text', 'subject', 'class']\n",
    "\n",
    "# Create new df_merged_articles_clean dataframe\n",
    "df_merged_articles_clean = df_merged_articles[reorder_cols]\n",
    "\n",
    "# Display first 5 rows of df_merged_articles_clean dataframe\n",
    "df_merged_articles_clean.head()"
   ]
  },
  {
   "cell_type": "code",
   "execution_count": 34,
   "id": "0f0786fe",
   "metadata": {},
   "outputs": [
    {
     "name": "stdout",
     "output_type": "stream",
     "text": [
      "<class 'pandas.core.frame.DataFrame'>\n",
      "RangeIndex: 44898 entries, 0 to 44897\n",
      "Data columns (total 5 columns):\n",
      " #   Column        Non-Null Count  Dtype \n",
      "---  ------        --------------  ----- \n",
      " 0   title         44898 non-null  object\n",
      " 1   text          44898 non-null  object\n",
      " 2   cleaned_text  44898 non-null  object\n",
      " 3   subject       44898 non-null  object\n",
      " 4   class         44898 non-null  int64 \n",
      "dtypes: int64(1), object(4)\n",
      "memory usage: 1.7+ MB\n"
     ]
    }
   ],
   "source": [
    "# Display info df_merged_articles_clean dataframe\n",
    "df_merged_articles_clean.info()"
   ]
  },
  {
   "cell_type": "code",
   "execution_count": 35,
   "id": "4c8510d6",
   "metadata": {},
   "outputs": [
    {
     "name": "stdout",
     "output_type": "stream",
     "text": [
      "df_merged_articles_clean_part1.csv file saved\n",
      "df_merged_articles_clean_part2.csv file saved\n",
      "df_merged_articles_clean_part3.csv file saved\n",
      "df_merged_articles_clean_part4.csv file saved\n"
     ]
    }
   ],
   "source": [
    "# Save df_merged_articles_clean dataframe after data cleaning in 4 parts to stay within Github allowed\n",
    "# filesize requirements\n",
    "df_merged_articles_clean.iloc[:12250].to_csv('Resources/df_merged_articles_clean_part1.csv', index=False)\n",
    "print(\"df_merged_articles_clean_part1.csv file saved\")\n",
    "df_merged_articles_clean.iloc[12250:24500].to_csv('Resources/df_merged_articles_clean_part2.csv', index=False)\n",
    "print(\"df_merged_articles_clean_part2.csv file saved\")\n",
    "df_merged_articles_clean.iloc[24500:36750].to_csv('Resources/df_merged_articles_clean_part3.csv', index=False)\n",
    "print(\"df_merged_articles_clean_part3.csv file saved\")\n",
    "df_merged_articles_clean.iloc[36750:].to_csv('Resources/df_merged_articles_clean_part4.csv', index=False)\n",
    "print(\"df_merged_articles_clean_part4.csv file saved\")"
   ]
  },
  {
   "cell_type": "code",
   "execution_count": null,
   "id": "1a97c9bc",
   "metadata": {},
   "outputs": [],
   "source": []
  }
 ],
 "metadata": {
  "kernelspec": {
   "display_name": "Python 3 (ipykernel)",
   "language": "python",
   "name": "python3"
  },
  "language_info": {
   "codemirror_mode": {
    "name": "ipython",
    "version": 3
   },
   "file_extension": ".py",
   "mimetype": "text/x-python",
   "name": "python",
   "nbconvert_exporter": "python",
   "pygments_lexer": "ipython3",
   "version": "3.10.13"
  }
 },
 "nbformat": 4,
 "nbformat_minor": 5
}
